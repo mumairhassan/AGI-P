{
  "cells": [
    {
      "cell_type": "markdown",
      "metadata": {
        "id": "view-in-github",
        "colab_type": "text"
      },
      "source": [
        "<a href=\"https://colab.research.google.com/github/mumairhassan/AGI-P/blob/main/Finetuning.ipynb\" target=\"_parent\"><img src=\"https://colab.research.google.com/assets/colab-badge.svg\" alt=\"Open In Colab\"/></a>"
      ]
    },
    {
      "cell_type": "code",
      "execution_count": null,
      "metadata": {
        "colab": {
          "base_uri": "https://localhost:8080/"
        },
        "id": "vYPEEpfWRQXP",
        "outputId": "bba493c3-0159-48fc-e801-f427226fc857"
      },
      "outputs": [
        {
          "output_type": "stream",
          "name": "stdout",
          "text": [
            "Looking in indexes: https://pypi.org/simple, https://us-python.pkg.dev/colab-wheels/public/simple/\n",
            "Collecting transformers\n",
            "  Downloading transformers-4.20.0-py3-none-any.whl (4.4 MB)\n",
            "\u001b[K     |████████████████████████████████| 4.4 MB 37.7 MB/s \n",
            "\u001b[?25hCollecting sentencepiece\n",
            "  Downloading sentencepiece-0.1.96-cp37-cp37m-manylinux_2_17_x86_64.manylinux2014_x86_64.whl (1.2 MB)\n",
            "\u001b[K     |████████████████████████████████| 1.2 MB 50.8 MB/s \n",
            "\u001b[?25hCollecting tokenizers!=0.11.3,<0.13,>=0.11.1\n",
            "  Downloading tokenizers-0.12.1-cp37-cp37m-manylinux_2_12_x86_64.manylinux2010_x86_64.whl (6.6 MB)\n",
            "\u001b[K     |████████████████████████████████| 6.6 MB 57.6 MB/s \n",
            "\u001b[?25hCollecting huggingface-hub<1.0,>=0.1.0\n",
            "  Downloading huggingface_hub-0.7.0-py3-none-any.whl (86 kB)\n",
            "\u001b[K     |████████████████████████████████| 86 kB 7.5 MB/s \n",
            "\u001b[?25hCollecting pyyaml>=5.1\n",
            "  Downloading PyYAML-6.0-cp37-cp37m-manylinux_2_5_x86_64.manylinux1_x86_64.manylinux_2_12_x86_64.manylinux2010_x86_64.whl (596 kB)\n",
            "\u001b[K     |████████████████████████████████| 596 kB 79.7 MB/s \n",
            "\u001b[?25hRequirement already satisfied: numpy>=1.17 in /usr/local/lib/python3.7/dist-packages (from transformers) (1.21.6)\n",
            "Requirement already satisfied: packaging>=20.0 in /usr/local/lib/python3.7/dist-packages (from transformers) (21.3)\n",
            "Requirement already satisfied: filelock in /usr/local/lib/python3.7/dist-packages (from transformers) (3.7.1)\n",
            "Requirement already satisfied: importlib-metadata in /usr/local/lib/python3.7/dist-packages (from transformers) (4.11.4)\n",
            "Requirement already satisfied: tqdm>=4.27 in /usr/local/lib/python3.7/dist-packages (from transformers) (4.64.0)\n",
            "Requirement already satisfied: requests in /usr/local/lib/python3.7/dist-packages (from transformers) (2.23.0)\n",
            "Requirement already satisfied: regex!=2019.12.17 in /usr/local/lib/python3.7/dist-packages (from transformers) (2022.6.2)\n",
            "Requirement already satisfied: typing-extensions>=3.7.4.3 in /usr/local/lib/python3.7/dist-packages (from huggingface-hub<1.0,>=0.1.0->transformers) (4.2.0)\n",
            "Requirement already satisfied: pyparsing!=3.0.5,>=2.0.2 in /usr/local/lib/python3.7/dist-packages (from packaging>=20.0->transformers) (3.0.9)\n",
            "Requirement already satisfied: zipp>=0.5 in /usr/local/lib/python3.7/dist-packages (from importlib-metadata->transformers) (3.8.0)\n",
            "Requirement already satisfied: urllib3!=1.25.0,!=1.25.1,<1.26,>=1.21.1 in /usr/local/lib/python3.7/dist-packages (from requests->transformers) (1.24.3)\n",
            "Requirement already satisfied: idna<3,>=2.5 in /usr/local/lib/python3.7/dist-packages (from requests->transformers) (2.10)\n",
            "Requirement already satisfied: certifi>=2017.4.17 in /usr/local/lib/python3.7/dist-packages (from requests->transformers) (2022.5.18.1)\n",
            "Requirement already satisfied: chardet<4,>=3.0.2 in /usr/local/lib/python3.7/dist-packages (from requests->transformers) (3.0.4)\n",
            "Installing collected packages: pyyaml, tokenizers, huggingface-hub, transformers, sentencepiece\n",
            "  Attempting uninstall: pyyaml\n",
            "    Found existing installation: PyYAML 3.13\n",
            "    Uninstalling PyYAML-3.13:\n",
            "      Successfully uninstalled PyYAML-3.13\n",
            "Successfully installed huggingface-hub-0.7.0 pyyaml-6.0 sentencepiece-0.1.96 tokenizers-0.12.1 transformers-4.20.0\n"
          ]
        }
      ],
      "source": [
        "!pip install transformers sentencepiece"
      ],
      "id": "vYPEEpfWRQXP"
    },
    {
      "cell_type": "code",
      "execution_count": null,
      "metadata": {
        "id": "5e9061e8"
      },
      "outputs": [],
      "source": [
        "import os\n",
        "\n",
        "os.environ[\"TOKENIZERS_PARALLELISM\"]=\"false\"\n",
        "\n",
        "class CFG:\n",
        "    wandb=False\n",
        "\n",
        "    debug=False\n",
        "    apex=False\n",
        "    print_freq=100\n",
        "    num_workers=1\n",
        "    model=\"microsoft/mdeberta-v3-base\"\n",
        "    #model=\"xlm-roberta-base\"\n",
        "    #model=\"bert-base-multilingual-uncased\"\n",
        "    #model=\"Jatin-WIAI/punjabi_relevance_clf\"\n",
        "    #model='bert-large-uncased-whole-word-masking'\n",
        "    #model=\"markussagen/xlm-roberta-longformer-base-4096\"\n",
        "    scheduler='cosine' # ['linear', 'cosine']\n",
        "    batch_scheduler=True\n",
        "    num_cycles=0.5\n",
        "    num_warmup_steps=0\n",
        "    epochs=10\n",
        "    encoder_lr=2e-5\n",
        "    decoder_lr=2e-5\n",
        "    min_lr=1e-6\n",
        "    eps=1e-6\n",
        "    betas=(0.9, 0.999)\n",
        "    batch_size=4\n",
        "    fc_dropout=0.2\n",
        "    max_len=512\n",
        "    weight_decay=0.00\n",
        "    gradient_accumulation_steps=2\n",
        "    max_grad_norm=10000\n",
        "    seed=42\n",
        "    n_fold=5\n",
        "    trn_fold=[0, 1, 2, 3, 4]\n",
        "    train=True\n",
        "    filtering=True\n",
        "if CFG.debug:\n",
        "    CFG.epochs = 2\n",
        "    CFG.trn_fold = [0]\n",
        "import torch\n",
        "import torch.nn as nn\n",
        "from torch.nn import Parameter\n",
        "import torch.nn.functional as F\n",
        "from torch.optim import Adam, SGD, AdamW\n",
        "from torch.utils.data import DataLoader, Dataset\n",
        "\n",
        "def prepare_input(cfg, src):\n",
        "    inputs = cfg.tokenizer(src,\n",
        "                           add_special_tokens=True,\n",
        "                           max_length=CFG.max_len,\n",
        "                           padding=\"max_length\",truncation=True,\n",
        "                           return_offsets_mapping=False)\n",
        "    for k, v in inputs.items():\n",
        "        inputs[k] = torch.tensor(v, dtype=torch.long)\n",
        "    return inputs\n",
        "\n",
        "\n",
        "\n",
        "class TrainDataset(Dataset):\n",
        "    def __init__(self, cfg, df):\n",
        "        self.cfg = cfg\n",
        "        self.src = df['Text'].values\n",
        "\n",
        "        self.j = df[CFG.target].values\n",
        "\n",
        "\n",
        "    def __len__(self):\n",
        "        return len(self.src)\n",
        "\n",
        "    def __getitem__(self, item):\n",
        "        inputs = prepare_input(self.cfg,\n",
        "                               self.src[item])\n",
        "        label = torch.tensor(self.j[item], dtype=torch.long)\n",
        "        return inputs, label\n"
      ],
      "id": "5e9061e8"
    },
    {
      "cell_type": "code",
      "execution_count": null,
      "metadata": {
        "colab": {
          "base_uri": "https://localhost:8080/"
        },
        "id": "37UatWMtPaDH",
        "outputId": "68bfded9-371b-49be-c591-4a75483c6048"
      },
      "outputs": [
        {
          "output_type": "stream",
          "name": "stdout",
          "text": [
            "Mounted at /content/drive\n"
          ]
        }
      ],
      "source": [
        "from google.colab import drive\n",
        "drive.mount('/content/drive')"
      ],
      "id": "37UatWMtPaDH"
    },
    {
      "cell_type": "code",
      "execution_count": null,
      "metadata": {
        "colab": {
          "base_uri": "https://localhost:8080/"
        },
        "id": "a971173d",
        "outputId": "bd877639-3aa2-4e99-c5f8-8b29c600166a"
      },
      "outputs": [
        {
          "output_type": "execute_result",
          "data": {
            "text/plain": [
              "count    1944.000000\n",
              "mean     1273.345679\n",
              "std        74.012086\n",
              "min      1066.000000\n",
              "25%      1224.000000\n",
              "50%      1267.000000\n",
              "75%      1312.000000\n",
              "max      1523.000000\n",
              "Name: Text, dtype: float64"
            ]
          },
          "metadata": {},
          "execution_count": 4
        }
      ],
      "source": [
        "import pandas as pd\n",
        "data_dir = \"/content/drive/MyDrive/PunjabGenderIdentification/\"\n",
        "df = pd.read_excel(f\"{data_dir}Gender_punjabi.xlsx\")\n",
        "\n",
        "df[\"Text\"].apply(lambda x: len(x)).describe()\n",
        "\n"
      ],
      "id": "a971173d"
    },
    {
      "cell_type": "code",
      "execution_count": null,
      "metadata": {
        "colab": {
          "base_uri": "https://localhost:8080/",
          "height": 222,
          "referenced_widgets": [
            "65345dc8413e428f9cdce77a712fdea4",
            "64ccf1cb970844158bc26cd796a0827a",
            "36e9c6dce96b4779aa051a064b7e3d0b",
            "9e33d097e585479c90f96efdd4539948",
            "5117d46348b64294bd667708db863292",
            "4637910a86744166836733b1ff72c083",
            "59ccc0c247f3420991057e12d7df962a",
            "bdfd33ff3a6f487fad31cf9015201795",
            "f16663095efe49aa8f92fdbb50cd2b0d",
            "007f4386316543f7840d7cdd9fe91b33",
            "e2f2bf214b2b4760b2f28f07761870b9",
            "8217f19cb77444fdbee6c00c1ad196b1",
            "127118e42af8469e9e90132be43b1bf3",
            "2a018dc713e7497d833785453f17591f",
            "88d27a9216c54ce3829f102c24b73489",
            "7da9f1c5cb4f4bcf93f16b012643dd33",
            "20021569a0df483d9d8ba11a893a0a00",
            "c94b3acc64e94cfdb8ecfd71e65b0a66",
            "e4470e9062e14ba78857cb44e0b1e8d0",
            "1b736d2b73a14739895b2ec0b5cc3af5",
            "fda1dc86ba1b4d9eae3d595fd0a67ef4",
            "1cfb3098bb764826bc96ed3543a1b0ef",
            "3b560f2ca33440e081a63cb59cadf123",
            "cc92564378204d3d80e743f363ebdd12",
            "eaf9c16244cf43908ad3df20ec090820",
            "d8ea1dd7b77d45e882d2a4c067b2a8cc",
            "f984a0f45ce748fe9d99870f63eefac0",
            "d245f68a08114f8bb2e10c33a4d80562",
            "98b7858ddafb4bf8abfa1a0868187a32",
            "a533d6254bbc4c3b8352329d1ca4e594",
            "17865b8700784bde99a68450e767b5d8",
            "fc14702dffb04c2f8c861b334a878e8c",
            "dd3c35a0b7ec4b3e98a98724034a25a8"
          ]
        },
        "id": "SpPxPuqNRNpg",
        "outputId": "04634983-d467-4160-b004-823aec811bf8"
      },
      "outputs": [
        {
          "output_type": "display_data",
          "data": {
            "text/plain": [
              "Downloading:   0%|          | 0.00/52.0 [00:00<?, ?B/s]"
            ],
            "application/vnd.jupyter.widget-view+json": {
              "version_major": 2,
              "version_minor": 0,
              "model_id": "65345dc8413e428f9cdce77a712fdea4"
            }
          },
          "metadata": {}
        },
        {
          "output_type": "display_data",
          "data": {
            "text/plain": [
              "Downloading:   0%|          | 0.00/4.11M [00:00<?, ?B/s]"
            ],
            "application/vnd.jupyter.widget-view+json": {
              "version_major": 2,
              "version_minor": 0,
              "model_id": "8217f19cb77444fdbee6c00c1ad196b1"
            }
          },
          "metadata": {}
        },
        {
          "output_type": "display_data",
          "data": {
            "text/plain": [
              "Downloading:   0%|          | 0.00/579 [00:00<?, ?B/s]"
            ],
            "application/vnd.jupyter.widget-view+json": {
              "version_major": 2,
              "version_minor": 0,
              "model_id": "3b560f2ca33440e081a63cb59cadf123"
            }
          },
          "metadata": {}
        },
        {
          "output_type": "stream",
          "name": "stderr",
          "text": [
            "Special tokens have been added in the vocabulary, make sure the associated word embeddings are fine-tuned or trained.\n",
            "/usr/local/lib/python3.7/dist-packages/transformers/convert_slow_tokenizer.py:435: UserWarning: The sentencepiece tokenizer that you are converting to a fast tokenizer uses the byte fallback option which is not implemented in the fast tokenizers. In practice this means that the fast version of the tokenizer can produce unknown tokens whereas the sentencepiece version would have converted these unknown tokens into a sequence of byte tokens matching the original piece of text.\n",
            "  \"The sentencepiece tokenizer that you are converting to a fast tokenizer uses the byte fallback option\"\n",
            "Special tokens have been added in the vocabulary, make sure the associated word embeddings are fine-tuned or trained.\n"
          ]
        },
        {
          "output_type": "stream",
          "name": "stdout",
          "text": [
            "max sequence length: 865\n"
          ]
        }
      ],
      "source": [
        "from transformers import AutoTokenizer, AutoModel,AutoConfig\n",
        "from transformers.models.deberta_v2.tokenization_deberta_v2_fast import DebertaV2TokenizerFast\n",
        "OUTPUT_DIR = \"/content/drive/MyDrive/PunjabGenderIdentification/\"\n",
        "#tokenizer = AutoTokenizer.from_pretrained(CFG.model,do_lower_case=True, use_fast=False)\n",
        "#tokenizer = AutoTokenizer.from_pretrained(CFG.model)\n",
        "if \"deberta-v\" in CFG.model:\n",
        "    tokenizer = DebertaV2TokenizerFast.from_pretrained(CFG.model)\n",
        "else:\n",
        "    tokenizer = AutoTokenizer.from_pretrained(CFG.model)\n",
        "#tokenizer.save_pretrained(OUTPUT_DIR+'tokenizer/')\n",
        "#CFG.tokenizer = tokenizer\n",
        "#tokenizer.save_pretrained(OUTPUT_DIR+'tokenizer/')\n",
        "CFG.tokenizer = tokenizer\n",
        "lengths = []\n",
        "train = df\n",
        "for src in train[\"Text\"].values:\n",
        "  length = len(tokenizer(src)['input_ids'])\n",
        "  lengths.append(length)\n",
        "CFG.max_len = max(lengths)\n",
        "print (f\"max sequence length: {CFG.max_len}\")"
      ],
      "id": "SpPxPuqNRNpg"
    },
    {
      "cell_type": "code",
      "execution_count": null,
      "metadata": {
        "id": "2b7f0559"
      },
      "outputs": [],
      "source": [
        "class ClassificationHead(nn.Module):\n",
        "    \"\"\"Head for sentence-level classification tasks.\"\"\"\n",
        "\n",
        "    def __init__(self, config, numlabels):\n",
        "        super().__init__()\n",
        "        self.dense = nn.Linear(config.hidden_size, config.hidden_size)\n",
        "        classifier_dropout = 0.2\n",
        "        self.dropout = nn.Dropout(classifier_dropout)\n",
        "        self.out_proj = nn.Linear(config.hidden_size, numlabels)\n",
        "\n",
        "    def forward(self, features, **kwargs):\n",
        "        x = features[:, 0, :]  # take <s> token (equiv. to [CLS])\n",
        "        x = self.dropout(x)\n",
        "        x = self.dense(x)\n",
        "        x = torch.tanh(x)\n",
        "        x = self.dropout(x)\n",
        "        x = self.out_proj(x)\n",
        "        return x\n",
        "\n",
        "class CustomModel(nn.Module):\n",
        "    def __init__(self, cfg, config_path=None, pretrained=False):\n",
        "        super().__init__()\n",
        "        self.cfg = cfg\n",
        "        if config_path is None:\n",
        "            self.config = AutoConfig.from_pretrained(cfg.model, output_hidden_states=True)\n",
        "        else:\n",
        "            self.config = torch.load(config_path)\n",
        "        if pretrained:\n",
        "            self.model = AutoModel.from_pretrained(cfg.model, config=self.config)\n",
        "        else:\n",
        "            self.model = AutoModel(self.config)\n",
        "        self.fc_dropout = nn.Dropout(cfg.fc_dropout)\n",
        "        self.fc = ClassificationHead(config,1)\n",
        "\n",
        "        self._init_weights(self.fc)\n",
        "\n",
        "    def _init_weights(self, module):\n",
        "        if isinstance(module, nn.Linear):\n",
        "            module.weight.data.normal_(mean=0.0, std=self.config.initializer_range)\n",
        "            if module.bias is not None:\n",
        "                module.bias.data.zero_()\n",
        "        elif isinstance(module, nn.Embedding):\n",
        "            module.weight.data.normal_(mean=0.0, std=self.config.initializer_range)\n",
        "            if module.padding_idx is not None:\n",
        "                module.weight.data[module.padding_idx].zero_()\n",
        "        elif isinstance(module, nn.LayerNorm):\n",
        "            module.bias.data.zero_()\n",
        "            module.weight.data.fill_(1.0)\n",
        "\n",
        "    def feature(self, inputs):\n",
        "        outputs = self.model(**inputs)\n",
        "        batch_size = outputs[0].size(0)\n",
        "        last_hidden_states = outputs[0]#[:,0]#.view(batch_size,-1)\n",
        "        #last_hidden_states = outputs[0].view(batch_size,-1)\n",
        "        return last_hidden_states\n",
        "\n",
        "    def forward(self, inputs):\n",
        "        feature = self.feature(inputs)\n",
        "        #output = self.fc(self.fc_dropout(feature))\n",
        "        output = self.fc(feature)\n",
        "        return output"
      ],
      "id": "2b7f0559"
    },
    {
      "cell_type": "code",
      "execution_count": null,
      "metadata": {
        "id": "a5d61a4d"
      },
      "outputs": [],
      "source": [
        "class AverageMeter(object):\n",
        "    \"\"\"Computes and stores the average and current value\"\"\"\n",
        "    def __init__(self):\n",
        "        self.reset()\n",
        "\n",
        "    def reset(self):\n",
        "        self.val = 0\n",
        "        self.avg = 0\n",
        "        self.sum = 0\n",
        "        self.count = 0\n",
        "\n",
        "    def update(self, val, n=1):\n",
        "        self.val = val\n",
        "        self.sum += val * n\n",
        "        self.count += n\n",
        "        self.avg = self.sum / self.count\n",
        "\n",
        "\n",
        "def asMinutes(s):\n",
        "    m = math.floor(s / 60)\n",
        "    s -= m * 60\n",
        "    return '%dm %ds' % (m, s)\n",
        "\n",
        "\n",
        "def timeSince(since, percent):\n",
        "    now = time.time()\n",
        "    s = now - since\n",
        "    es = s / (percent)\n",
        "    rs = es - s\n",
        "    return '%s (remain %s)' % (asMinutes(s), asMinutes(rs))\n",
        "\n",
        "def train_fn_ready_made(fold, train_loader, model, optimizer, epoch, scheduler, device):\n",
        "    model.train()\n",
        "    scaler = torch.cuda.amp.GradScaler(enabled=CFG.apex)\n",
        "    losses = AverageMeter()\n",
        "    start = end = time.time()\n",
        "    global_step = 0\n",
        "    for step, (inputs, labels) in enumerate(train_loader):\n",
        "        for k, v in inputs.items():\n",
        "            inputs[k] = v.to(device)\n",
        "        labels = labels.to(device)\n",
        "        batch_size = labels.size(0)\n",
        "        with torch.cuda.amp.autocast(enabled=CFG.apex):\n",
        "            classified_outputs = model(**inputs,labels=labels,return_dict=True)\n",
        "        #loss = criterion(y_preds.view(-1, 1), labels.view(-1, 1))\n",
        "\n",
        "\n",
        "        loss = classified_outputs.loss\n",
        "        loss = torch.masked_select(loss, inputs[\"attention_mask\"]==1).mean()\n",
        "        #loss = loss.mean()\n",
        "        if CFG.gradient_accumulation_steps > 1:\n",
        "            loss = loss / CFG.gradient_accumulation_steps\n",
        "        losses.update(loss.item(), batch_size)\n",
        "        scaler.scale(loss).backward()\n",
        "        grad_norm = torch.nn.utils.clip_grad_norm_(model.parameters(), CFG.max_grad_norm)\n",
        "        if (step + 1) % CFG.gradient_accumulation_steps == 0:\n",
        "            scaler.step(optimizer)\n",
        "            scaler.update()\n",
        "            optimizer.zero_grad()\n",
        "            global_step += 1\n",
        "            if CFG.batch_scheduler:\n",
        "                scheduler.step()\n",
        "        end = time.time()\n",
        "        if step % CFG.print_freq == 0 or step == (len(train_loader)-1):\n",
        "            print('Epoch: [{0}][{1}/{2}] '\n",
        "                  'Elapsed {remain:s} '\n",
        "                  'Loss: {loss.val:.4f}({loss.avg:.4f}) '\n",
        "                  'Grad: {grad_norm:.4f}  '\n",
        "                  'LR: {lr:.8f}  '\n",
        "                  .format(epoch+1, step, len(train_loader),\n",
        "                          remain=timeSince(start, float(step+1)/len(train_loader)),\n",
        "                          loss=losses,\n",
        "                          grad_norm=grad_norm,\n",
        "                          lr=scheduler.get_lr()[0]))\n",
        "        if CFG.wandb:\n",
        "            wandb.log({f\"[fold{fold}] loss\": losses.val,\n",
        "                       f\"[fold{fold}] lr\": scheduler.get_lr()[0]})\n",
        "    return losses.avg\n",
        "\n",
        "\n",
        "def valid_fn_ready_made(valid_loader, model, device):\n",
        "    losses = AverageMeter()\n",
        "    model.eval()\n",
        "    preds = []\n",
        "    start = end = time.time()\n",
        "    for step, (inputs, labels) in enumerate(valid_loader):\n",
        "        for k, v in inputs.items():\n",
        "            inputs[k] = v.to(device)\n",
        "        labels = labels.to(device)\n",
        "        batch_size = labels.size(0)\n",
        "        with torch.no_grad():\n",
        "            classified_outputs = model(**inputs,labels=labels,return_dict=True)\n",
        "        y_preds = classified_outputs.logits\n",
        "        loss = classified_outputs.loss\n",
        "        #loss = criterion(y_preds.view(-1, 1), labels.view(-1,1))\n",
        "        #loss = torch.masked_select(loss, inputs[\"attention_mask\"]==1).mean()\n",
        "        loss = loss.mean()\n",
        "        if CFG.gradient_accumulation_steps > 1:\n",
        "            loss = loss / CFG.gradient_accumulation_steps\n",
        "        losses.update(loss.item(), batch_size)\n",
        "        #preds.append(y_preds.sigmoid().to('cpu').numpy())\n",
        "        preds.append(y_preds.to('cpu').numpy())\n",
        "        end = time.time()\n",
        "        if step % CFG.print_freq == 0 or step == (len(valid_loader)-1):\n",
        "            print('EVAL: [{0}/{1}] '\n",
        "                  'Elapsed {remain:s} '\n",
        "                  'Loss: {loss.val:.4f}({loss.avg:.4f}) '\n",
        "                  .format(step, len(valid_loader),\n",
        "                          loss=losses,\n",
        "                          remain=timeSince(start, float(step+1)/len(valid_loader))))\n",
        "    predictions = np.concatenate(preds)\n",
        "    return losses.avg, predictions\n",
        "\n",
        "def train_fn(fold, train_loader, model, criterion, optimizer, epoch, scheduler, device):\n",
        "    model.train()\n",
        "    scaler = torch.cuda.amp.GradScaler(enabled=CFG.apex)\n",
        "    losses = AverageMeter()\n",
        "    start = end = time.time()\n",
        "    global_step = 0\n",
        "    for step, (inputs, labels) in enumerate(train_loader):\n",
        "        for k, v in inputs.items():\n",
        "            inputs[k] = v.to(device)\n",
        "        labels = labels.to(device)\n",
        "        batch_size = labels.size(0)\n",
        "        with torch.cuda.amp.autocast(enabled=CFG.apex):\n",
        "            y_preds = model(inputs)\n",
        "        #loss = criterion(y_preds.view(-1, 1), labels.view(-1, 1))\n",
        "\n",
        "        loss = criterion(y_preds.view(-1, 1), labels.view(-1,1))\n",
        "        #loss = torch.masked_select(loss, inputs[\"attention_mask\"]==1).mean()\n",
        "        loss = loss.mean()\n",
        "        if CFG.gradient_accumulation_steps > 1:\n",
        "            loss = loss / CFG.gradient_accumulation_steps\n",
        "        losses.update(loss.item(), batch_size)\n",
        "        scaler.scale(loss).backward()\n",
        "        grad_norm = torch.nn.utils.clip_grad_norm_(model.parameters(), CFG.max_grad_norm)\n",
        "        if (step + 1) % CFG.gradient_accumulation_steps == 0:\n",
        "            scaler.step(optimizer)\n",
        "            scaler.update()\n",
        "            optimizer.zero_grad()\n",
        "            global_step += 1\n",
        "            if CFG.batch_scheduler:\n",
        "                scheduler.step()\n",
        "        end = time.time()\n",
        "        if step % CFG.print_freq == 0 or step == (len(train_loader)-1):\n",
        "            print('Epoch: [{0}][{1}/{2}] '\n",
        "                  'Elapsed {remain:s} '\n",
        "                  'Loss: {loss.val:.4f}({loss.avg:.4f}) '\n",
        "                  'Grad: {grad_norm:.4f}  '\n",
        "                  'LR: {lr:.8f}  '\n",
        "                  .format(epoch+1, step, len(train_loader),\n",
        "                          remain=timeSince(start, float(step+1)/len(train_loader)),\n",
        "                          loss=losses,\n",
        "                          grad_norm=grad_norm,\n",
        "                          lr=scheduler.get_lr()[0]))\n",
        "        if CFG.wandb:\n",
        "            wandb.log({f\"[fold{fold}] loss\": losses.val,\n",
        "                       f\"[fold{fold}] lr\": scheduler.get_lr()[0]})\n",
        "    return losses.avg\n",
        "\n",
        "\n",
        "def valid_fn(valid_loader, model, criterion, device):\n",
        "    losses = AverageMeter()\n",
        "    model.eval()\n",
        "    preds = []\n",
        "    start = end = time.time()\n",
        "    for step, (inputs, labels) in enumerate(valid_loader):\n",
        "        for k, v in inputs.items():\n",
        "            inputs[k] = v.to(device)\n",
        "        labels = labels.to(device)\n",
        "        batch_size = labels.size(0)\n",
        "        with torch.no_grad():\n",
        "            y_preds = model(inputs)\n",
        "\n",
        "        loss = criterion(y_preds.view(-1, 1), labels.view(-1,1))\n",
        "        #loss = torch.masked_select(loss, inputs[\"attention_mask\"]==1).mean()\n",
        "        loss = loss.mean()\n",
        "        if CFG.gradient_accumulation_steps > 1:\n",
        "            loss = loss / CFG.gradient_accumulation_steps\n",
        "        losses.update(loss.item(), batch_size)\n",
        "        preds.append(y_preds.sigmoid().to('cpu').numpy())\n",
        "        end = time.time()\n",
        "        if step % CFG.print_freq == 0 or step == (len(valid_loader)-1):\n",
        "            print('EVAL: [{0}/{1}] '\n",
        "                  'Elapsed {remain:s} '\n",
        "                  'Loss: {loss.val:.4f}({loss.avg:.4f}) '\n",
        "                  .format(step, len(valid_loader),\n",
        "                          loss=losses,\n",
        "                          remain=timeSince(start, float(step+1)/len(valid_loader))))\n",
        "    predictions = np.concatenate(preds)\n",
        "    return losses.avg, predictions\n"
      ],
      "id": "a5d61a4d"
    },
    {
      "cell_type": "code",
      "execution_count": null,
      "metadata": {
        "id": "dc52d7ce"
      },
      "outputs": [],
      "source": [
        "import sklearn\n",
        "from transformers import AutoModelForSequenceClassification\n",
        "def train_loop(folds, fold):\n",
        "\n",
        "    LOGGER.info(f\"========== fold: {fold} training ==========\")\n",
        "\n",
        "    # ====================================================\n",
        "    # loader\n",
        "    # ====================================================\n",
        "    train_folds = folds[folds['fold'] != fold].reset_index(drop=True)\n",
        "\n",
        "\n",
        "    valid_folds = folds[folds['fold'] == fold].reset_index(drop=True)\n",
        "\n",
        "    valid_labels = valid_folds[CFG.target]\n",
        "\n",
        "    train_dataset = TrainDataset(CFG, train_folds)\n",
        "    valid_dataset = TrainDataset(CFG, valid_folds)\n",
        "\n",
        "    train_loader = DataLoader(train_dataset,\n",
        "                              batch_size=CFG.batch_size,\n",
        "                              shuffle=True,\n",
        "                              num_workers=CFG.num_workers, pin_memory=True, drop_last=True)\n",
        "    valid_loader = DataLoader(valid_dataset,\n",
        "                              batch_size=CFG.batch_size,\n",
        "                              shuffle=False,\n",
        "                              num_workers=CFG.num_workers, pin_memory=True, drop_last=False)\n",
        "\n",
        "    # ====================================================\n",
        "    # model & optimizer\n",
        "    # ====================================================\n",
        "    #model = CustomModel(CFG, config_path=None, pretrained=True)\n",
        "    model = AutoModelForSequenceClassification.from_pretrained(CFG.model,num_labels=2,problem_type = \"single_label_classification\")\n",
        "    #model.config.num_labels = 1\n",
        "    #model.config.problem_type = \"single_label_classification\"\n",
        "    torch.save(model.config, OUTPUT_DIR+f'{CFG.model.replace(\"/\",\"_\")}_config.pth')\n",
        "    model.to(device)\n",
        "\n",
        "    def get_optimizer_params(model, encoder_lr, decoder_lr, weight_decay=0.0):\n",
        "        param_optimizer = list(model.named_parameters())\n",
        "        no_decay = [\"bias\", \"LayerNorm.bias\", \"LayerNorm.weight\"]\n",
        "        if \"deberta\" in CFG.model:\n",
        "            optimizer_parameters = [\n",
        "                {'params': [p for n, p in model.deberta.named_parameters() if not any(nd in n for nd in no_decay)],\n",
        "                 'lr': encoder_lr, 'weight_decay': weight_decay},\n",
        "                {'params': [p for n, p in model.deberta.named_parameters() if any(nd in n for nd in no_decay)],\n",
        "                 'lr': encoder_lr, 'weight_decay': 0.0},\n",
        "                {'params': [p for n, p in model.named_parameters() if \"deberta\" not in n],\n",
        "                 'lr': decoder_lr, 'weight_decay': 0.0}\n",
        "            ]\n",
        "        elif \"roberta\" in CFG.model:\n",
        "            optimizer_parameters = [\n",
        "                {'params': [p for n, p in model.roberta.named_parameters() if not any(nd in n for nd in no_decay)],\n",
        "                 'lr': encoder_lr, 'weight_decay': weight_decay},\n",
        "                {'params': [p for n, p in model.roberta.named_parameters() if any(nd in n for nd in no_decay)],\n",
        "                 'lr': encoder_lr, 'weight_decay': 0.0},\n",
        "                {'params': [p for n, p in model.named_parameters() if \"roberta\" not in n],\n",
        "                 'lr': decoder_lr, 'weight_decay': 0.0}\n",
        "            ]\n",
        "        elif \"bert\" in CFG.model:\n",
        "            optimizer_parameters = [\n",
        "                {'params': [p for n, p in model.bert.named_parameters() if not any(nd in n for nd in no_decay)],\n",
        "                 'lr': encoder_lr, 'weight_decay': weight_decay},\n",
        "                {'params': [p for n, p in model.bert.named_parameters() if any(nd in n for nd in no_decay)],\n",
        "                 'lr': encoder_lr, 'weight_decay': 0.0},\n",
        "                {'params': [p for n, p in model.named_parameters() if \"bert\" not in n],\n",
        "                 'lr': decoder_lr, 'weight_decay': 0.0}\n",
        "            ]\n",
        "\n",
        "        return optimizer_parameters\n",
        "\n",
        "    optimizer_parameters = get_optimizer_params(model,\n",
        "                                                encoder_lr=CFG.encoder_lr,\n",
        "                                                decoder_lr=CFG.decoder_lr,\n",
        "                                                weight_decay=CFG.weight_decay)\n",
        "    optimizer = AdamW(optimizer_parameters, lr=CFG.encoder_lr, eps=CFG.eps, betas=CFG.betas)\n",
        "\n",
        "    # ====================================================\n",
        "    # scheduler\n",
        "    # ====================================================\n",
        "    def get_scheduler(cfg, optimizer, num_train_steps):\n",
        "        if cfg.scheduler=='linear':\n",
        "            scheduler = get_linear_schedule_with_warmup(\n",
        "                optimizer, num_warmup_steps=cfg.num_warmup_steps, num_training_steps=num_train_steps\n",
        "            )\n",
        "        elif cfg.scheduler=='cosine':\n",
        "            scheduler = get_cosine_schedule_with_warmup(\n",
        "                optimizer, num_warmup_steps=cfg.num_warmup_steps, num_training_steps=num_train_steps, num_cycles=cfg.num_cycles\n",
        "            )\n",
        "        return scheduler\n",
        "\n",
        "    num_train_steps = int(len(train_folds) / CFG.batch_size * CFG.epochs)\n",
        "    scheduler = get_scheduler(CFG, optimizer, num_train_steps)\n",
        "\n",
        "    # ====================================================\n",
        "    # loop\n",
        "    # ====================================================\n",
        "    #criterion = nn.BCEWithLogitsLoss(reduction=\"none\")\n",
        "    #criterion = nn.MSELoss(reduction=\"none\")\n",
        "\n",
        "    best_score = 0.\n",
        "\n",
        "    for epoch in range(CFG.epochs):\n",
        "\n",
        "        start_time = time.time()\n",
        "\n",
        "        # train\n",
        "        #avg_loss = train_fn(fold, train_loader, model, criterion, optimizer, epoch, scheduler, device)\n",
        "        avg_loss = train_fn_ready_made(fold, train_loader, model, optimizer, epoch, scheduler, device)\n",
        "\n",
        "        # eval\n",
        "        avg_val_loss, predictions = valid_fn_ready_made(valid_loader, model, device)\n",
        "        #predictions = predictions.reshape((len(valid_folds), CFG.max_len))\n",
        "\n",
        "        # scoring\n",
        "\n",
        "        #preds = np.where(predictions>0.5,1,0)\n",
        "        preds = np.argmax(predictions,axis=1)\n",
        "\n",
        "        score = sklearn.metrics.accuracy_score(valid_labels, preds)\n",
        "\n",
        "        elapsed = time.time() - start_time\n",
        "\n",
        "        LOGGER.info(f'Epoch {epoch+1} - avg_train_loss: {avg_loss:.4f}  avg_val_loss: {avg_val_loss:.4f}  time: {elapsed:.0f}s')\n",
        "        LOGGER.info(f'Epoch {epoch+1} - Score: {score:.4f}')\n",
        "        if CFG.wandb:\n",
        "            wandb.log({f\"[fold{fold}] epoch\": epoch+1,\n",
        "                       f\"[fold{fold}] avg_train_loss\": avg_loss,\n",
        "                       f\"[fold{fold}] avg_val_loss\": avg_val_loss,\n",
        "                       f\"[fold{fold}] score\": score})\n",
        "\n",
        "        #if best_score < score:\n",
        "        if True:\n",
        "            best_score = score\n",
        "            LOGGER.info(f'Epoch {epoch+1} - Save Best Score: {best_score:.4f} Model')\n",
        "            torch.save({'model': model.state_dict(),\n",
        "                        'predictions': preds},\n",
        "                        OUTPUT_DIR+f\"{CFG.model.replace('/', '-')}_{CFG.target}_fold{fold}_best.pth\")\n",
        "\n",
        "    preds = torch.load(OUTPUT_DIR+f\"{CFG.model.replace('/', '-')}_{CFG.target}_fold{fold}_best.pth\",\n",
        "                             map_location=torch.device('cpu'))['predictions']\n",
        "    valid_folds[\"predictions\"] = preds\n",
        "\n",
        "    torch.cuda.empty_cache()\n",
        "    gc.collect()\n",
        "\n",
        "    return valid_folds"
      ],
      "id": "dc52d7ce"
    },
    {
      "cell_type": "code",
      "execution_count": null,
      "metadata": {
        "id": "c7bed762"
      },
      "outputs": [],
      "source": [
        "OUTPUT_DIR = \"/content/drive/MyDrive/PunjabGenderIdentification/finetuned/\"\n",
        "import os\n",
        "import random\n",
        "import numpy as np\n",
        "if not os.path.exists(OUTPUT_DIR):\n",
        "    os.mkdir(OUTPUT_DIR)\n",
        "\n",
        "def get_logger(filename=OUTPUT_DIR+'train'):\n",
        "    from logging import getLogger, INFO, StreamHandler, FileHandler, Formatter\n",
        "    logger = getLogger(__name__)\n",
        "    logger.setLevel(INFO)\n",
        "    handler1 = StreamHandler()\n",
        "    handler1.setFormatter(Formatter(\"%(message)s\"))\n",
        "    handler2 = FileHandler(filename=f\"{filename}.log\")\n",
        "    handler2.setFormatter(Formatter(\"%(message)s\"))\n",
        "    logger.addHandler(handler1)\n",
        "    logger.addHandler(handler2)\n",
        "    return logger\n",
        "\n",
        "LOGGER = get_logger()\n",
        "\n",
        "def seed_everything(seed=42):\n",
        "    random.seed(seed)\n",
        "    os.environ['PYTHONHASHSEED'] = str(seed)\n",
        "    np.random.seed(seed)\n",
        "    torch.manual_seed(seed)\n",
        "    torch.cuda.manual_seed(seed)\n",
        "    torch.backends.cudnn.deterministic = True\n",
        "\n",
        "seed_everything(seed=42)"
      ],
      "id": "c7bed762"
    },
    {
      "cell_type": "code",
      "execution_count": null,
      "metadata": {
        "colab": {
          "base_uri": "https://localhost:8080/",
          "height": 142
        },
        "id": "2f1e909e",
        "outputId": "f3db2de8-65b3-47c7-d8d8-ab0a2178faac"
      },
      "outputs": [
        {
          "output_type": "display_data",
          "data": {
            "text/plain": [
              "fold\n",
              "0    389\n",
              "1    389\n",
              "2    389\n",
              "3    389\n",
              "4    388\n",
              "dtype: int64"
            ]
          },
          "metadata": {}
        }
      ],
      "source": [
        "from sklearn.model_selection import GroupKFold,KFold\n",
        "df[\"Gender_bin\"] = df[\"Gender\"].apply(lambda x: 1 if x==\"Female\" else 0)\n",
        "if CFG.filtering:\n",
        "    df = df.drop_duplicates(subset=[\"Gender\",\"Text\"])\n",
        "    df[\"Text_len\"] = df[\"Text\"].apply(lambda x: len(x))\n",
        "    df = df[df[\"Text_len\"]<4000]\n",
        "    df = df[df[\"Text_len\"]>170]\n",
        "df = df.sample(frac=1.)\n",
        "train = df.reset_index()\n",
        "#train.columns = [\"Text\",\"Gender\"]\n",
        "Fold = KFold(n_splits=CFG.n_fold)\n",
        "#groups = train['pn_num'].values\n",
        "for n, (train_index, val_index) in enumerate(Fold.split(train)):\n",
        "    train.loc[val_index, 'fold'] = int(n)\n",
        "train['fold'] = train['fold'].astype(int)\n",
        "#train[\"quality_bin\"] = train[\"quality\"].apply(lambda x: 0 if x==\"bad\" else 1)\n",
        "display(train.groupby('fold').size())"
      ],
      "id": "2f1e909e"
    },
    {
      "cell_type": "code",
      "execution_count": null,
      "metadata": {
        "colab": {
          "base_uri": "https://localhost:8080/",
          "height": 424
        },
        "id": "7bf28674",
        "outputId": "81777bbe-d08a-44a9-8d62-8e3732fe24aa"
      },
      "outputs": [
        {
          "output_type": "execute_result",
          "data": {
            "text/plain": [
              "      Unnamed: 0                                               Text  Gender  \\\n",
              "1610         627  ਨਵੀਂ ਦਿੱਲੀ, ਐਜੂਕੇਸ਼ਨ ਡੈਸਕ : 2021: ਨੀਟ ਯੂਜੀ ਕਾਊ...  Female   \n",
              "1402         459  : ਦਸੰਬਰ ਦੇ ਪਹਿਲੇ ਦਿਨ ਹੀ ਪੈਟਰੋਲੀਅਮ ਕੰਪਨੀਆਂ ਨੇ ਆ...  Female   \n",
              "1718         884  ਜੇਐੱਨਐੱਨ, ਨਵੀਂ ਦਿੱਲੀ : ਕਈ ਵਾਰ ਤੁਹਾਡੇ ਫੋਨ ’ਤੇ ਕ...  Female   \n",
              "1054         302  ਕਿਹਾ ਜਾਂਦਾ ਹੈ ਕਿ ਉਡਾਣ ਖੰਭਾਂ ਨਾਲ ਨਹੀਂ ਹਿੰਮਤ ਨਾਲ...  Female   \n",
              "307         1489  ਨਵੀਂ ਦਿੱਲੀ, ਬਿਜ਼ਨੈੱਸ ਡੈਸਕ : ਸੋਨੇ ਦੀ ਕੀਮਤ ਫਿਰ ਚ...    Male   \n",
              "...          ...                                                ...     ...   \n",
              "1130         500  ਜੇਐੱਨਐੱਨ, ਨਵੀਂ ਦਿੱਲੀ। ਬਾਬਾ ਦੀਪ ਸਿੰਘ ਦਾ ਜਨਮ 27 ...  Female   \n",
              "1294         563  ਆਈਏਐੱਨਐੱਸ, ਨਵੀਂ ਦਿੱਲੀ : ਭਾਰਤੀ ਰੇਲਵੇ ਨੇ ਰਾਜਧਾਨੀ...  Female   \n",
              "860         1937  ਹਰੇਕ ਸਮਾਜ ਵਿਚ ਵਿਸਾਖੀ ਦਾ ਮਹੀਨਾ ਕਈ ਤਰ੍ਹਾਂ ਮਨਾਇਆ ...    Male   \n",
              "1459         896  ਸੋਰਠਿ ਮਹਲਾ ੧ ॥ ਜਿਨ੍ਹ੍ਹੀ ਸਤਿਗੁਰੁ ਸੇਵਿਆ ਪਿਆਰੇ ਤਿ...  Female   \n",
              "1126         508  ਨਵੀਂ ਦਿੱਲੀ, ਆਈ.ਏ.ਐਨ.ਐਸ : ਸਿਹਤ ਖੇਤਰ ਨੂੰ ਆਉਣ ਵਾਲ...  Female   \n",
              "\n",
              "      Gender_bin  Text_len  \n",
              "1610           1      1377  \n",
              "1402           1      1255  \n",
              "1718           1      1263  \n",
              "1054           1      1283  \n",
              "307            0      1270  \n",
              "...          ...       ...  \n",
              "1130           1      1202  \n",
              "1294           1      1506  \n",
              "860            0      1130  \n",
              "1459           1      1229  \n",
              "1126           1      1325  \n",
              "\n",
              "[1944 rows x 5 columns]"
            ],
            "text/html": [
              "\n",
              "  <div id=\"df-e6b7d17f-fe7e-4e79-ad77-75e38139dc4a\">\n",
              "    <div class=\"colab-df-container\">\n",
              "      <div>\n",
              "<style scoped>\n",
              "    .dataframe tbody tr th:only-of-type {\n",
              "        vertical-align: middle;\n",
              "    }\n",
              "\n",
              "    .dataframe tbody tr th {\n",
              "        vertical-align: top;\n",
              "    }\n",
              "\n",
              "    .dataframe thead th {\n",
              "        text-align: right;\n",
              "    }\n",
              "</style>\n",
              "<table border=\"1\" class=\"dataframe\">\n",
              "  <thead>\n",
              "    <tr style=\"text-align: right;\">\n",
              "      <th></th>\n",
              "      <th>Unnamed: 0</th>\n",
              "      <th>Text</th>\n",
              "      <th>Gender</th>\n",
              "      <th>Gender_bin</th>\n",
              "      <th>Text_len</th>\n",
              "    </tr>\n",
              "  </thead>\n",
              "  <tbody>\n",
              "    <tr>\n",
              "      <th>1610</th>\n",
              "      <td>627</td>\n",
              "      <td>ਨਵੀਂ ਦਿੱਲੀ, ਐਜੂਕੇਸ਼ਨ ਡੈਸਕ : 2021: ਨੀਟ ਯੂਜੀ ਕਾਊ...</td>\n",
              "      <td>Female</td>\n",
              "      <td>1</td>\n",
              "      <td>1377</td>\n",
              "    </tr>\n",
              "    <tr>\n",
              "      <th>1402</th>\n",
              "      <td>459</td>\n",
              "      <td>: ਦਸੰਬਰ ਦੇ ਪਹਿਲੇ ਦਿਨ ਹੀ ਪੈਟਰੋਲੀਅਮ ਕੰਪਨੀਆਂ ਨੇ ਆ...</td>\n",
              "      <td>Female</td>\n",
              "      <td>1</td>\n",
              "      <td>1255</td>\n",
              "    </tr>\n",
              "    <tr>\n",
              "      <th>1718</th>\n",
              "      <td>884</td>\n",
              "      <td>ਜੇਐੱਨਐੱਨ, ਨਵੀਂ ਦਿੱਲੀ : ਕਈ ਵਾਰ ਤੁਹਾਡੇ ਫੋਨ ’ਤੇ ਕ...</td>\n",
              "      <td>Female</td>\n",
              "      <td>1</td>\n",
              "      <td>1263</td>\n",
              "    </tr>\n",
              "    <tr>\n",
              "      <th>1054</th>\n",
              "      <td>302</td>\n",
              "      <td>ਕਿਹਾ ਜਾਂਦਾ ਹੈ ਕਿ ਉਡਾਣ ਖੰਭਾਂ ਨਾਲ ਨਹੀਂ ਹਿੰਮਤ ਨਾਲ...</td>\n",
              "      <td>Female</td>\n",
              "      <td>1</td>\n",
              "      <td>1283</td>\n",
              "    </tr>\n",
              "    <tr>\n",
              "      <th>307</th>\n",
              "      <td>1489</td>\n",
              "      <td>ਨਵੀਂ ਦਿੱਲੀ, ਬਿਜ਼ਨੈੱਸ ਡੈਸਕ : ਸੋਨੇ ਦੀ ਕੀਮਤ ਫਿਰ ਚ...</td>\n",
              "      <td>Male</td>\n",
              "      <td>0</td>\n",
              "      <td>1270</td>\n",
              "    </tr>\n",
              "    <tr>\n",
              "      <th>...</th>\n",
              "      <td>...</td>\n",
              "      <td>...</td>\n",
              "      <td>...</td>\n",
              "      <td>...</td>\n",
              "      <td>...</td>\n",
              "    </tr>\n",
              "    <tr>\n",
              "      <th>1130</th>\n",
              "      <td>500</td>\n",
              "      <td>ਜੇਐੱਨਐੱਨ, ਨਵੀਂ ਦਿੱਲੀ। ਬਾਬਾ ਦੀਪ ਸਿੰਘ ਦਾ ਜਨਮ 27 ...</td>\n",
              "      <td>Female</td>\n",
              "      <td>1</td>\n",
              "      <td>1202</td>\n",
              "    </tr>\n",
              "    <tr>\n",
              "      <th>1294</th>\n",
              "      <td>563</td>\n",
              "      <td>ਆਈਏਐੱਨਐੱਸ, ਨਵੀਂ ਦਿੱਲੀ : ਭਾਰਤੀ ਰੇਲਵੇ ਨੇ ਰਾਜਧਾਨੀ...</td>\n",
              "      <td>Female</td>\n",
              "      <td>1</td>\n",
              "      <td>1506</td>\n",
              "    </tr>\n",
              "    <tr>\n",
              "      <th>860</th>\n",
              "      <td>1937</td>\n",
              "      <td>ਹਰੇਕ ਸਮਾਜ ਵਿਚ ਵਿਸਾਖੀ ਦਾ ਮਹੀਨਾ ਕਈ ਤਰ੍ਹਾਂ ਮਨਾਇਆ ...</td>\n",
              "      <td>Male</td>\n",
              "      <td>0</td>\n",
              "      <td>1130</td>\n",
              "    </tr>\n",
              "    <tr>\n",
              "      <th>1459</th>\n",
              "      <td>896</td>\n",
              "      <td>ਸੋਰਠਿ ਮਹਲਾ ੧ ॥ ਜਿਨ੍ਹ੍ਹੀ ਸਤਿਗੁਰੁ ਸੇਵਿਆ ਪਿਆਰੇ ਤਿ...</td>\n",
              "      <td>Female</td>\n",
              "      <td>1</td>\n",
              "      <td>1229</td>\n",
              "    </tr>\n",
              "    <tr>\n",
              "      <th>1126</th>\n",
              "      <td>508</td>\n",
              "      <td>ਨਵੀਂ ਦਿੱਲੀ, ਆਈ.ਏ.ਐਨ.ਐਸ : ਸਿਹਤ ਖੇਤਰ ਨੂੰ ਆਉਣ ਵਾਲ...</td>\n",
              "      <td>Female</td>\n",
              "      <td>1</td>\n",
              "      <td>1325</td>\n",
              "    </tr>\n",
              "  </tbody>\n",
              "</table>\n",
              "<p>1944 rows × 5 columns</p>\n",
              "</div>\n",
              "      <button class=\"colab-df-convert\" onclick=\"convertToInteractive('df-e6b7d17f-fe7e-4e79-ad77-75e38139dc4a')\"\n",
              "              title=\"Convert this dataframe to an interactive table.\"\n",
              "              style=\"display:none;\">\n",
              "        \n",
              "  <svg xmlns=\"http://www.w3.org/2000/svg\" height=\"24px\"viewBox=\"0 0 24 24\"\n",
              "       width=\"24px\">\n",
              "    <path d=\"M0 0h24v24H0V0z\" fill=\"none\"/>\n",
              "    <path d=\"M18.56 5.44l.94 2.06.94-2.06 2.06-.94-2.06-.94-.94-2.06-.94 2.06-2.06.94zm-11 1L8.5 8.5l.94-2.06 2.06-.94-2.06-.94L8.5 2.5l-.94 2.06-2.06.94zm10 10l.94 2.06.94-2.06 2.06-.94-2.06-.94-.94-2.06-.94 2.06-2.06.94z\"/><path d=\"M17.41 7.96l-1.37-1.37c-.4-.4-.92-.59-1.43-.59-.52 0-1.04.2-1.43.59L10.3 9.45l-7.72 7.72c-.78.78-.78 2.05 0 2.83L4 21.41c.39.39.9.59 1.41.59.51 0 1.02-.2 1.41-.59l7.78-7.78 2.81-2.81c.8-.78.8-2.07 0-2.86zM5.41 20L4 18.59l7.72-7.72 1.47 1.35L5.41 20z\"/>\n",
              "  </svg>\n",
              "      </button>\n",
              "      \n",
              "  <style>\n",
              "    .colab-df-container {\n",
              "      display:flex;\n",
              "      flex-wrap:wrap;\n",
              "      gap: 12px;\n",
              "    }\n",
              "\n",
              "    .colab-df-convert {\n",
              "      background-color: #E8F0FE;\n",
              "      border: none;\n",
              "      border-radius: 50%;\n",
              "      cursor: pointer;\n",
              "      display: none;\n",
              "      fill: #1967D2;\n",
              "      height: 32px;\n",
              "      padding: 0 0 0 0;\n",
              "      width: 32px;\n",
              "    }\n",
              "\n",
              "    .colab-df-convert:hover {\n",
              "      background-color: #E2EBFA;\n",
              "      box-shadow: 0px 1px 2px rgba(60, 64, 67, 0.3), 0px 1px 3px 1px rgba(60, 64, 67, 0.15);\n",
              "      fill: #174EA6;\n",
              "    }\n",
              "\n",
              "    [theme=dark] .colab-df-convert {\n",
              "      background-color: #3B4455;\n",
              "      fill: #D2E3FC;\n",
              "    }\n",
              "\n",
              "    [theme=dark] .colab-df-convert:hover {\n",
              "      background-color: #434B5C;\n",
              "      box-shadow: 0px 1px 3px 1px rgba(0, 0, 0, 0.15);\n",
              "      filter: drop-shadow(0px 1px 2px rgba(0, 0, 0, 0.3));\n",
              "      fill: #FFFFFF;\n",
              "    }\n",
              "  </style>\n",
              "\n",
              "      <script>\n",
              "        const buttonEl =\n",
              "          document.querySelector('#df-e6b7d17f-fe7e-4e79-ad77-75e38139dc4a button.colab-df-convert');\n",
              "        buttonEl.style.display =\n",
              "          google.colab.kernel.accessAllowed ? 'block' : 'none';\n",
              "\n",
              "        async function convertToInteractive(key) {\n",
              "          const element = document.querySelector('#df-e6b7d17f-fe7e-4e79-ad77-75e38139dc4a');\n",
              "          const dataTable =\n",
              "            await google.colab.kernel.invokeFunction('convertToInteractive',\n",
              "                                                     [key], {});\n",
              "          if (!dataTable) return;\n",
              "\n",
              "          const docLinkHtml = 'Like what you see? Visit the ' +\n",
              "            '<a target=\"_blank\" href=https://colab.research.google.com/notebooks/data_table.ipynb>data table notebook</a>'\n",
              "            + ' to learn more about interactive tables.';\n",
              "          element.innerHTML = '';\n",
              "          dataTable['output_type'] = 'display_data';\n",
              "          await google.colab.output.renderOutput(dataTable, element);\n",
              "          const docLink = document.createElement('div');\n",
              "          docLink.innerHTML = docLinkHtml;\n",
              "          element.appendChild(docLink);\n",
              "        }\n",
              "      </script>\n",
              "    </div>\n",
              "  </div>\n",
              "  "
            ]
          },
          "metadata": {},
          "execution_count": 11
        }
      ],
      "source": [
        "df"
      ],
      "id": "7bf28674"
    },
    {
      "cell_type": "code",
      "execution_count": null,
      "metadata": {
        "colab": {
          "base_uri": "https://localhost:8080/",
          "height": 1000,
          "referenced_widgets": [
            "72678c9ef38a4b5e86732510b5eecb1b",
            "afb7293295874831be0bcfec46422a0a",
            "b0e56aa8721e4b1bbf701879cc29b8f2",
            "2237e460a34340c2821b176333c3d770",
            "9aa0490642e64abf87b1dff20dfb359f",
            "7b00373fbbf04a2ca6e236c03f6f7d05",
            "a215b935f79e46b7a7bbe2428246d690",
            "e10196ff679143daa5eff16dccfdc2fc",
            "eebc880e8ca8426f85cc83287c45481a",
            "afb1708b7dcf4b67b62f805b5a4435b9",
            "e63918cdcf214ea0a6e27dfea2d36a81"
          ]
        },
        "id": "fe02fdce",
        "outputId": "111f473b-df32-4c94-d566-ae4a01b8f0fc"
      },
      "outputs": [
        {
          "metadata": {
            "tags": null
          },
          "name": "stderr",
          "output_type": "stream",
          "text": [
            "========== fold: 2 training ==========\n"
          ]
        },
        {
          "data": {
            "application/vnd.jupyter.widget-view+json": {
              "model_id": "72678c9ef38a4b5e86732510b5eecb1b",
              "version_major": 2,
              "version_minor": 0
            },
            "text/plain": [
              "Downloading:   0%|          | 0.00/534M [00:00<?, ?B/s]"
            ]
          },
          "metadata": {},
          "output_type": "display_data"
        },
        {
          "metadata": {
            "tags": null
          },
          "name": "stderr",
          "output_type": "stream",
          "text": [
            "/usr/local/lib/python3.7/dist-packages/torch/optim/lr_scheduler.py:249: UserWarning: To get the last learning rate computed by the scheduler, please use `get_last_lr()`.\n",
            "  warnings.warn(\"To get the last learning rate computed by the scheduler, \"\n"
          ]
        },
        {
          "metadata": {
            "tags": null
          },
          "name": "stdout",
          "output_type": "stream",
          "text": [
            "Epoch: [1][0/388] Elapsed 0m 1s (remain 7m 0s) Loss: 0.3335(0.3335) Grad: 1.7225  LR: 0.00002000  \n",
            "Epoch: [1][100/388] Elapsed 1m 49s (remain 5m 10s) Loss: 0.3402(0.3407) Grad: 7.0974  LR: 0.00001999  \n",
            "Epoch: [1][200/388] Elapsed 3m 41s (remain 3m 26s) Loss: 0.3071(0.2957) Grad: 6.5341  LR: 0.00001997  \n",
            "Epoch: [1][300/388] Elapsed 5m 33s (remain 1m 36s) Loss: 0.0683(0.2656) Grad: 1.8941  LR: 0.00001993  \n",
            "Epoch: [1][387/388] Elapsed 7m 11s (remain 0m 0s) Loss: 0.2896(0.2584) Grad: 10.0500  LR: 0.00001988  \n",
            "EVAL: [0/98] Elapsed 0m 0s (remain 0m 47s) Loss: 0.0669(0.0669) \n"
          ]
        },
        {
          "metadata": {
            "tags": null
          },
          "name": "stderr",
          "output_type": "stream",
          "text": [
            "Epoch 1 - avg_train_loss: 0.2584  avg_val_loss: 0.1966  time: 471s\n",
            "Epoch 1 - Score: 0.8252\n",
            "Epoch 1 - Save Best Score: 0.8252 Model\n"
          ]
        },
        {
          "metadata": {
            "tags": null
          },
          "name": "stdout",
          "output_type": "stream",
          "text": [
            "EVAL: [97/98] Elapsed 0m 39s (remain 0m 0s) Loss: 0.0232(0.1966) \n"
          ]
        },
        {
          "metadata": {
            "tags": null
          },
          "name": "stderr",
          "output_type": "stream",
          "text": [
            "/usr/local/lib/python3.7/dist-packages/torch/optim/lr_scheduler.py:249: UserWarning: To get the last learning rate computed by the scheduler, please use `get_last_lr()`.\n",
            "  warnings.warn(\"To get the last learning rate computed by the scheduler, \"\n"
          ]
        },
        {
          "metadata": {
            "tags": null
          },
          "name": "stdout",
          "output_type": "stream",
          "text": [
            "Epoch: [2][0/388] Elapsed 0m 0s (remain 6m 9s) Loss: 0.1134(0.1134) Grad: 6.4865  LR: 0.00001988  \n",
            "Epoch: [2][100/388] Elapsed 1m 53s (remain 5m 22s) Loss: 0.3442(0.1866) Grad: 13.6345  LR: 0.00001981  \n",
            "Epoch: [2][200/388] Elapsed 3m 45s (remain 3m 29s) Loss: 0.3692(0.1768) Grad: 4.8082  LR: 0.00001972  \n",
            "Epoch: [2][300/388] Elapsed 5m 37s (remain 1m 37s) Loss: 0.4657(0.1786) Grad: 19.0303  LR: 0.00001962  \n",
            "Epoch: [2][387/388] Elapsed 7m 15s (remain 0m 0s) Loss: 0.0769(0.1845) Grad: 7.3180  LR: 0.00001951  \n",
            "EVAL: [0/98] Elapsed 0m 0s (remain 0m 48s) Loss: 0.0360(0.0360) \n"
          ]
        },
        {
          "metadata": {
            "tags": null
          },
          "name": "stderr",
          "output_type": "stream",
          "text": [
            "Epoch 2 - avg_train_loss: 0.1845  avg_val_loss: 0.1485  time: 475s\n",
            "Epoch 2 - Score: 0.8766\n",
            "Epoch 2 - Save Best Score: 0.8766 Model\n"
          ]
        },
        {
          "metadata": {
            "tags": null
          },
          "name": "stdout",
          "output_type": "stream",
          "text": [
            "EVAL: [97/98] Elapsed 0m 39s (remain 0m 0s) Loss: 0.0086(0.1485) \n"
          ]
        },
        {
          "metadata": {
            "tags": null
          },
          "name": "stderr",
          "output_type": "stream",
          "text": [
            "/usr/local/lib/python3.7/dist-packages/torch/optim/lr_scheduler.py:249: UserWarning: To get the last learning rate computed by the scheduler, please use `get_last_lr()`.\n",
            "  warnings.warn(\"To get the last learning rate computed by the scheduler, \"\n"
          ]
        },
        {
          "metadata": {
            "tags": null
          },
          "name": "stdout",
          "output_type": "stream",
          "text": [
            "Epoch: [3][0/388] Elapsed 0m 0s (remain 6m 10s) Loss: 0.0242(0.0242) Grad: 0.8260  LR: 0.00001951  \n",
            "Epoch: [3][100/388] Elapsed 1m 53s (remain 5m 21s) Loss: 0.4672(0.1360) Grad: 10.3512  LR: 0.00001938  \n",
            "Epoch: [3][200/388] Elapsed 3m 45s (remain 3m 29s) Loss: 0.0619(0.1449) Grad: 2.0222  LR: 0.00001923  \n",
            "Epoch: [3][300/388] Elapsed 5m 37s (remain 1m 37s) Loss: 0.0589(0.1505) Grad: 2.0089  LR: 0.00001907  \n",
            "Epoch: [3][387/388] Elapsed 7m 14s (remain 0m 0s) Loss: 0.0945(0.1536) Grad: 8.4019  LR: 0.00001891  \n",
            "EVAL: [0/98] Elapsed 0m 0s (remain 0m 48s) Loss: 0.0341(0.0341) \n"
          ]
        },
        {
          "metadata": {
            "tags": null
          },
          "name": "stderr",
          "output_type": "stream",
          "text": [
            "Epoch 3 - avg_train_loss: 0.1536  avg_val_loss: 0.1518  time: 475s\n",
            "Epoch 3 - Score: 0.8612\n",
            "Epoch 3 - Save Best Score: 0.8612 Model\n"
          ]
        },
        {
          "metadata": {
            "tags": null
          },
          "name": "stdout",
          "output_type": "stream",
          "text": [
            "EVAL: [97/98] Elapsed 0m 39s (remain 0m 0s) Loss: 0.0041(0.1518) \n"
          ]
        },
        {
          "metadata": {
            "tags": null
          },
          "name": "stderr",
          "output_type": "stream",
          "text": [
            "/usr/local/lib/python3.7/dist-packages/torch/optim/lr_scheduler.py:249: UserWarning: To get the last learning rate computed by the scheduler, please use `get_last_lr()`.\n",
            "  warnings.warn(\"To get the last learning rate computed by the scheduler, \"\n"
          ]
        },
        {
          "metadata": {
            "tags": null
          },
          "name": "stdout",
          "output_type": "stream",
          "text": [
            "Epoch: [4][0/388] Elapsed 0m 0s (remain 6m 15s) Loss: 0.1686(0.1686) Grad: 12.1898  LR: 0.00001891  \n",
            "Epoch: [4][100/388] Elapsed 1m 53s (remain 5m 21s) Loss: 0.1485(0.1264) Grad: 8.9335  LR: 0.00001872  \n",
            "Epoch: [4][200/388] Elapsed 3m 45s (remain 3m 29s) Loss: 0.1221(0.1266) Grad: 5.6549  LR: 0.00001852  \n",
            "Epoch: [4][300/388] Elapsed 5m 37s (remain 1m 37s) Loss: 0.0977(0.1288) Grad: 4.3338  LR: 0.00001830  \n",
            "Epoch: [4][387/388] Elapsed 7m 14s (remain 0m 0s) Loss: 0.0262(0.1258) Grad: 21.9951  LR: 0.00001810  \n",
            "EVAL: [0/98] Elapsed 0m 0s (remain 0m 48s) Loss: 0.1022(0.1022) \n"
          ]
        },
        {
          "metadata": {
            "tags": null
          },
          "name": "stderr",
          "output_type": "stream",
          "text": [
            "Epoch 4 - avg_train_loss: 0.1258  avg_val_loss: 0.2007  time: 475s\n",
            "Epoch 4 - Score: 0.8226\n",
            "Epoch 4 - Save Best Score: 0.8226 Model\n"
          ]
        },
        {
          "metadata": {
            "tags": null
          },
          "name": "stdout",
          "output_type": "stream",
          "text": [
            "EVAL: [97/98] Elapsed 0m 39s (remain 0m 0s) Loss: 0.0021(0.2007) \n"
          ]
        },
        {
          "metadata": {
            "tags": null
          },
          "name": "stderr",
          "output_type": "stream",
          "text": [
            "/usr/local/lib/python3.7/dist-packages/torch/optim/lr_scheduler.py:249: UserWarning: To get the last learning rate computed by the scheduler, please use `get_last_lr()`.\n",
            "  warnings.warn(\"To get the last learning rate computed by the scheduler, \"\n"
          ]
        },
        {
          "metadata": {
            "tags": null
          },
          "name": "stdout",
          "output_type": "stream",
          "text": [
            "Epoch: [5][0/388] Elapsed 0m 0s (remain 6m 20s) Loss: 0.0406(0.0406) Grad: 2.4876  LR: 0.00001810  \n",
            "Epoch: [5][100/388] Elapsed 1m 53s (remain 5m 21s) Loss: 0.0116(0.1043) Grad: 0.8332  LR: 0.00001785  \n",
            "Epoch: [5][200/388] Elapsed 3m 45s (remain 3m 29s) Loss: 0.0791(0.1088) Grad: 5.0169  LR: 0.00001760  \n",
            "Epoch: [5][300/388] Elapsed 5m 37s (remain 1m 37s) Loss: 0.0438(0.1017) Grad: 4.2080  LR: 0.00001733  \n",
            "Epoch: [5][387/388] Elapsed 7m 14s (remain 0m 0s) Loss: 0.2699(0.1032) Grad: 8.8975  LR: 0.00001708  \n",
            "EVAL: [0/98] Elapsed 0m 0s (remain 0m 47s) Loss: 0.0144(0.0144) \n"
          ]
        },
        {
          "metadata": {
            "tags": null
          },
          "name": "stderr",
          "output_type": "stream",
          "text": [
            "Epoch 5 - avg_train_loss: 0.1032  avg_val_loss: 0.1599  time: 475s\n",
            "Epoch 5 - Score: 0.8586\n",
            "Epoch 5 - Save Best Score: 0.8586 Model\n"
          ]
        },
        {
          "metadata": {
            "tags": null
          },
          "name": "stdout",
          "output_type": "stream",
          "text": [
            "EVAL: [97/98] Elapsed 0m 39s (remain 0m 0s) Loss: 0.0023(0.1599) \n"
          ]
        },
        {
          "metadata": {
            "tags": null
          },
          "name": "stderr",
          "output_type": "stream",
          "text": [
            "/usr/local/lib/python3.7/dist-packages/torch/optim/lr_scheduler.py:249: UserWarning: To get the last learning rate computed by the scheduler, please use `get_last_lr()`.\n",
            "  warnings.warn(\"To get the last learning rate computed by the scheduler, \"\n"
          ]
        },
        {
          "metadata": {
            "tags": null
          },
          "name": "stdout",
          "output_type": "stream",
          "text": [
            "Epoch: [6][0/388] Elapsed 0m 0s (remain 6m 12s) Loss: 0.0067(0.0067) Grad: 0.2396  LR: 0.00001708  \n",
            "Epoch: [6][100/388] Elapsed 1m 53s (remain 5m 21s) Loss: 0.0037(0.0640) Grad: 0.1122  LR: 0.00001679  \n",
            "Epoch: [6][200/388] Elapsed 3m 45s (remain 3m 29s) Loss: 0.0052(0.0731) Grad: 0.2805  LR: 0.00001649  \n",
            "Epoch: [6][300/388] Elapsed 5m 36s (remain 1m 37s) Loss: 0.0369(0.0721) Grad: 4.2131  LR: 0.00001618  \n",
            "Epoch: [6][387/388] Elapsed 7m 14s (remain 0m 0s) Loss: 0.0136(0.0724) Grad: 2.1972  LR: 0.00001589  \n",
            "EVAL: [0/98] Elapsed 0m 0s (remain 0m 48s) Loss: 0.0150(0.0150) \n"
          ]
        },
        {
          "metadata": {
            "tags": null
          },
          "name": "stderr",
          "output_type": "stream",
          "text": [
            "Epoch 6 - avg_train_loss: 0.0724  avg_val_loss: 0.1618  time: 474s\n",
            "Epoch 6 - Score: 0.8920\n",
            "Epoch 6 - Save Best Score: 0.8920 Model\n"
          ]
        },
        {
          "metadata": {
            "tags": null
          },
          "name": "stdout",
          "output_type": "stream",
          "text": [
            "EVAL: [97/98] Elapsed 0m 39s (remain 0m 0s) Loss: 0.0008(0.1618) \n"
          ]
        },
        {
          "metadata": {
            "tags": null
          },
          "name": "stderr",
          "output_type": "stream",
          "text": [
            "/usr/local/lib/python3.7/dist-packages/torch/optim/lr_scheduler.py:249: UserWarning: To get the last learning rate computed by the scheduler, please use `get_last_lr()`.\n",
            "  warnings.warn(\"To get the last learning rate computed by the scheduler, \"\n"
          ]
        },
        {
          "metadata": {
            "tags": null
          },
          "name": "stdout",
          "output_type": "stream",
          "text": [
            "Epoch: [7][0/388] Elapsed 0m 0s (remain 6m 22s) Loss: 0.0061(0.0061) Grad: 0.4652  LR: 0.00001589  \n",
            "Epoch: [7][100/388] Elapsed 1m 53s (remain 5m 21s) Loss: 0.1234(0.0559) Grad: 19.9702  LR: 0.00001556  \n",
            "Epoch: [7][200/388] Elapsed 3m 45s (remain 3m 29s) Loss: 0.0048(0.0597) Grad: 0.5823  LR: 0.00001522  \n",
            "Epoch: [7][300/388] Elapsed 5m 36s (remain 1m 37s) Loss: 0.0381(0.0578) Grad: 5.0984  LR: 0.00001487  \n",
            "Epoch: [7][387/388] Elapsed 7m 14s (remain 0m 0s) Loss: 0.1884(0.0606) Grad: 22.6925  LR: 0.00001456  \n",
            "EVAL: [0/98] Elapsed 0m 0s (remain 0m 47s) Loss: 0.0377(0.0377) \n"
          ]
        },
        {
          "metadata": {
            "tags": null
          },
          "name": "stderr",
          "output_type": "stream",
          "text": [
            "Epoch 7 - avg_train_loss: 0.0606  avg_val_loss: 0.2035  time: 474s\n",
            "Epoch 7 - Score: 0.8689\n",
            "Epoch 7 - Save Best Score: 0.8689 Model\n"
          ]
        },
        {
          "metadata": {
            "tags": null
          },
          "name": "stdout",
          "output_type": "stream",
          "text": [
            "EVAL: [97/98] Elapsed 0m 39s (remain 0m 0s) Loss: 0.0004(0.2035) \n"
          ]
        },
        {
          "metadata": {
            "tags": null
          },
          "name": "stderr",
          "output_type": "stream",
          "text": [
            "/usr/local/lib/python3.7/dist-packages/torch/optim/lr_scheduler.py:249: UserWarning: To get the last learning rate computed by the scheduler, please use `get_last_lr()`.\n",
            "  warnings.warn(\"To get the last learning rate computed by the scheduler, \"\n"
          ]
        },
        {
          "metadata": {
            "tags": null
          },
          "name": "stdout",
          "output_type": "stream",
          "text": [
            "Epoch: [8][0/388] Elapsed 0m 0s (remain 6m 12s) Loss: 0.0021(0.0021) Grad: 0.0673  LR: 0.00001456  \n",
            "Epoch: [8][100/388] Elapsed 1m 52s (remain 5m 20s) Loss: 0.0014(0.0476) Grad: 0.0513  LR: 0.00001419  \n",
            "Epoch: [8][200/388] Elapsed 3m 45s (remain 3m 29s) Loss: 0.0065(0.0364) Grad: 0.6026  LR: 0.00001382  \n",
            "Epoch: [8][300/388] Elapsed 5m 36s (remain 1m 37s) Loss: 0.3739(0.0470) Grad: 28.6798  LR: 0.00001345  \n",
            "Epoch: [8][387/388] Elapsed 7m 14s (remain 0m 0s) Loss: 0.0259(0.0456) Grad: 3.3106  LR: 0.00001311  \n",
            "EVAL: [0/98] Elapsed 0m 0s (remain 0m 48s) Loss: 0.0691(0.0691) \n"
          ]
        },
        {
          "metadata": {
            "tags": null
          },
          "name": "stderr",
          "output_type": "stream",
          "text": [
            "Epoch 8 - avg_train_loss: 0.0456  avg_val_loss: 0.1808  time: 475s\n",
            "Epoch 8 - Score: 0.8869\n",
            "Epoch 8 - Save Best Score: 0.8869 Model\n"
          ]
        },
        {
          "metadata": {
            "tags": null
          },
          "name": "stdout",
          "output_type": "stream",
          "text": [
            "EVAL: [97/98] Elapsed 0m 39s (remain 0m 0s) Loss: 0.0004(0.1808) \n"
          ]
        },
        {
          "metadata": {
            "tags": null
          },
          "name": "stderr",
          "output_type": "stream",
          "text": [
            "/usr/local/lib/python3.7/dist-packages/torch/optim/lr_scheduler.py:249: UserWarning: To get the last learning rate computed by the scheduler, please use `get_last_lr()`.\n",
            "  warnings.warn(\"To get the last learning rate computed by the scheduler, \"\n"
          ]
        },
        {
          "metadata": {
            "tags": null
          },
          "name": "stdout",
          "output_type": "stream",
          "text": [
            "Epoch: [9][0/388] Elapsed 0m 0s (remain 6m 7s) Loss: 0.0053(0.0053) Grad: 1.1261  LR: 0.00001311  \n",
            "Epoch: [9][100/388] Elapsed 1m 52s (remain 5m 21s) Loss: 0.0158(0.0182) Grad: 5.3490  LR: 0.00001273  \n",
            "Epoch: [9][200/388] Elapsed 3m 44s (remain 3m 29s) Loss: 0.0023(0.0211) Grad: 0.2710  LR: 0.00001233  \n",
            "Epoch: [9][300/388] Elapsed 5m 36s (remain 1m 37s) Loss: 0.0010(0.0224) Grad: 0.0537  LR: 0.00001194  \n",
            "Epoch: [9][387/388] Elapsed 7m 14s (remain 0m 0s) Loss: 0.0008(0.0244) Grad: 0.2176  LR: 0.00001159  \n",
            "EVAL: [0/98] Elapsed 0m 0s (remain 0m 47s) Loss: 0.0057(0.0057) \n"
          ]
        },
        {
          "metadata": {
            "tags": null
          },
          "name": "stderr",
          "output_type": "stream",
          "text": [
            "Epoch 9 - avg_train_loss: 0.0244  avg_val_loss: 0.2005  time: 474s\n",
            "Epoch 9 - Score: 0.9100\n",
            "Epoch 9 - Save Best Score: 0.9100 Model\n"
          ]
        },
        {
          "metadata": {
            "tags": null
          },
          "name": "stdout",
          "output_type": "stream",
          "text": [
            "EVAL: [97/98] Elapsed 0m 39s (remain 0m 0s) Loss: 0.0003(0.2005) \n"
          ]
        },
        {
          "metadata": {
            "tags": null
          },
          "name": "stderr",
          "output_type": "stream",
          "text": [
            "/usr/local/lib/python3.7/dist-packages/torch/optim/lr_scheduler.py:249: UserWarning: To get the last learning rate computed by the scheduler, please use `get_last_lr()`.\n",
            "  warnings.warn(\"To get the last learning rate computed by the scheduler, \"\n"
          ]
        },
        {
          "metadata": {
            "tags": null
          },
          "name": "stdout",
          "output_type": "stream",
          "text": [
            "Epoch: [10][0/388] Elapsed 0m 0s (remain 6m 16s) Loss: 0.0040(0.0040) Grad: 0.7534  LR: 0.00001159  \n",
            "Epoch: [10][100/388] Elapsed 1m 53s (remain 5m 21s) Loss: 0.0049(0.0180) Grad: 1.0088  LR: 0.00001119  \n",
            "Epoch: [10][200/388] Elapsed 3m 45s (remain 3m 29s) Loss: 0.3570(0.0238) Grad: 40.8041  LR: 0.00001079  \n",
            "Epoch: [10][300/388] Elapsed 5m 37s (remain 1m 37s) Loss: 0.0099(0.0209) Grad: 3.7085  LR: 0.00001038  \n",
            "Epoch: [10][387/388] Elapsed 7m 14s (remain 0m 0s) Loss: 0.0009(0.0207) Grad: 0.6668  LR: 0.00001003  \n",
            "EVAL: [0/98] Elapsed 0m 0s (remain 0m 47s) Loss: 0.0014(0.0014) \n"
          ]
        },
        {
          "metadata": {
            "tags": null
          },
          "name": "stderr",
          "output_type": "stream",
          "text": [
            "Epoch 10 - avg_train_loss: 0.0207  avg_val_loss: 0.2031  time: 475s\n",
            "Epoch 10 - Score: 0.8997\n",
            "Epoch 10 - Save Best Score: 0.8997 Model\n"
          ]
        },
        {
          "metadata": {
            "tags": null
          },
          "name": "stdout",
          "output_type": "stream",
          "text": [
            "EVAL: [97/98] Elapsed 0m 39s (remain 0m 0s) Loss: 0.0002(0.2031) \n"
          ]
        },
        {
          "metadata": {
            "tags": null
          },
          "name": "stderr",
          "output_type": "stream",
          "text": [
            "========== fold: 2 result ==========\n",
            "========== fold: 3 training ==========\n",
            "/usr/local/lib/python3.7/dist-packages/torch/optim/lr_scheduler.py:249: UserWarning: To get the last learning rate computed by the scheduler, please use `get_last_lr()`.\n",
            "  warnings.warn(\"To get the last learning rate computed by the scheduler, \"\n"
          ]
        },
        {
          "metadata": {
            "tags": null
          },
          "name": "stdout",
          "output_type": "stream",
          "text": [
            "Epoch: [1][0/388] Elapsed 0m 0s (remain 5m 59s) Loss: 0.3557(0.3557) Grad: 1.0992  LR: 0.00002000  \n",
            "Epoch: [1][100/388] Elapsed 1m 53s (remain 5m 22s) Loss: 0.3465(0.3389) Grad: 4.7140  LR: 0.00001999  \n",
            "Epoch: [1][200/388] Elapsed 3m 45s (remain 3m 29s) Loss: 0.2667(0.2972) Grad: 4.7734  LR: 0.00001997  \n",
            "Epoch: [1][300/388] Elapsed 5m 37s (remain 1m 37s) Loss: 0.2394(0.2804) Grad: 1.0589  LR: 0.00001993  \n",
            "Epoch: [1][387/388] Elapsed 7m 15s (remain 0m 0s) Loss: 0.2952(0.2736) Grad: 8.6379  LR: 0.00001988  \n",
            "EVAL: [0/98] Elapsed 0m 0s (remain 0m 48s) Loss: 0.0413(0.0413) \n"
          ]
        },
        {
          "metadata": {
            "tags": null
          },
          "name": "stderr",
          "output_type": "stream",
          "text": [
            "Epoch 1 - avg_train_loss: 0.2736  avg_val_loss: 0.2136  time: 475s\n",
            "Epoch 1 - Score: 0.7918\n",
            "Epoch 1 - Save Best Score: 0.7918 Model\n"
          ]
        },
        {
          "metadata": {
            "tags": null
          },
          "name": "stdout",
          "output_type": "stream",
          "text": [
            "EVAL: [97/98] Elapsed 0m 39s (remain 0m 0s) Loss: 0.2104(0.2136) \n"
          ]
        },
        {
          "metadata": {
            "tags": null
          },
          "name": "stderr",
          "output_type": "stream",
          "text": [
            "/usr/local/lib/python3.7/dist-packages/torch/optim/lr_scheduler.py:249: UserWarning: To get the last learning rate computed by the scheduler, please use `get_last_lr()`.\n",
            "  warnings.warn(\"To get the last learning rate computed by the scheduler, \"\n"
          ]
        },
        {
          "metadata": {
            "tags": null
          },
          "name": "stdout",
          "output_type": "stream",
          "text": [
            "Epoch: [2][0/388] Elapsed 0m 0s (remain 6m 9s) Loss: 0.0363(0.0363) Grad: 0.9154  LR: 0.00001988  \n",
            "Epoch: [2][100/388] Elapsed 1m 53s (remain 5m 22s) Loss: 0.3618(0.1924) Grad: 2.6379  LR: 0.00001981  \n",
            "Epoch: [2][200/388] Elapsed 3m 45s (remain 3m 29s) Loss: 0.2936(0.2089) Grad: 1.4039  LR: 0.00001972  \n",
            "Epoch: [2][300/388] Elapsed 5m 37s (remain 1m 37s) Loss: 0.0716(0.2143) Grad: 1.9222  LR: 0.00001962  \n",
            "Epoch: [2][387/388] Elapsed 7m 15s (remain 0m 0s) Loss: 0.1660(0.2086) Grad: 4.2062  LR: 0.00001951  \n",
            "EVAL: [0/98] Elapsed 0m 0s (remain 0m 49s) Loss: 0.0359(0.0359) \n"
          ]
        },
        {
          "metadata": {
            "tags": null
          },
          "name": "stderr",
          "output_type": "stream",
          "text": [
            "Epoch 2 - avg_train_loss: 0.2086  avg_val_loss: 0.1772  time: 475s\n",
            "Epoch 2 - Score: 0.8380\n",
            "Epoch 2 - Save Best Score: 0.8380 Model\n"
          ]
        },
        {
          "metadata": {
            "tags": null
          },
          "name": "stdout",
          "output_type": "stream",
          "text": [
            "EVAL: [97/98] Elapsed 0m 39s (remain 0m 0s) Loss: 0.0098(0.1772) \n"
          ]
        },
        {
          "metadata": {
            "tags": null
          },
          "name": "stderr",
          "output_type": "stream",
          "text": [
            "/usr/local/lib/python3.7/dist-packages/torch/optim/lr_scheduler.py:249: UserWarning: To get the last learning rate computed by the scheduler, please use `get_last_lr()`.\n",
            "  warnings.warn(\"To get the last learning rate computed by the scheduler, \"\n"
          ]
        },
        {
          "metadata": {
            "tags": null
          },
          "name": "stdout",
          "output_type": "stream",
          "text": [
            "Epoch: [3][0/388] Elapsed 0m 0s (remain 6m 23s) Loss: 0.2680(0.2680) Grad: 7.3553  LR: 0.00001951  \n",
            "Epoch: [3][100/388] Elapsed 1m 53s (remain 5m 21s) Loss: 0.0446(0.1854) Grad: 0.8893  LR: 0.00001938  \n",
            "Epoch: [3][200/388] Elapsed 3m 45s (remain 3m 29s) Loss: 0.2926(0.1856) Grad: 3.7907  LR: 0.00001923  \n",
            "Epoch: [3][300/388] Elapsed 5m 37s (remain 1m 37s) Loss: 0.0656(0.1777) Grad: 2.1655  LR: 0.00001907  \n",
            "Epoch: [3][387/388] Elapsed 7m 15s (remain 0m 0s) Loss: 0.1054(0.1733) Grad: 8.1232  LR: 0.00001891  \n",
            "EVAL: [0/98] Elapsed 0m 0s (remain 0m 48s) Loss: 0.0127(0.0127) \n"
          ]
        },
        {
          "metadata": {
            "tags": null
          },
          "name": "stderr",
          "output_type": "stream",
          "text": [
            "Epoch 3 - avg_train_loss: 0.1733  avg_val_loss: 0.1577  time: 475s\n",
            "Epoch 3 - Score: 0.8638\n",
            "Epoch 3 - Save Best Score: 0.8638 Model\n"
          ]
        },
        {
          "metadata": {
            "tags": null
          },
          "name": "stdout",
          "output_type": "stream",
          "text": [
            "EVAL: [97/98] Elapsed 0m 39s (remain 0m 0s) Loss: 0.0036(0.1577) \n"
          ]
        },
        {
          "metadata": {
            "tags": null
          },
          "name": "stderr",
          "output_type": "stream",
          "text": [
            "/usr/local/lib/python3.7/dist-packages/torch/optim/lr_scheduler.py:249: UserWarning: To get the last learning rate computed by the scheduler, please use `get_last_lr()`.\n",
            "  warnings.warn(\"To get the last learning rate computed by the scheduler, \"\n"
          ]
        },
        {
          "metadata": {
            "tags": null
          },
          "name": "stdout",
          "output_type": "stream",
          "text": [
            "Epoch: [4][0/388] Elapsed 0m 0s (remain 6m 17s) Loss: 0.3356(0.3356) Grad: 2.6398  LR: 0.00001891  \n",
            "Epoch: [4][100/388] Elapsed 1m 53s (remain 5m 21s) Loss: 0.2242(0.1650) Grad: 4.0404  LR: 0.00001872  \n",
            "Epoch: [4][200/388] Elapsed 3m 45s (remain 3m 29s) Loss: 0.1947(0.1535) Grad: 2.5038  LR: 0.00001852  \n",
            "Epoch: [4][300/388] Elapsed 5m 37s (remain 1m 37s) Loss: 0.2716(0.1607) Grad: 4.2716  LR: 0.00001830  \n",
            "Epoch: [4][387/388] Elapsed 7m 14s (remain 0m 0s) Loss: 0.0208(0.1584) Grad: 4.0232  LR: 0.00001810  \n",
            "EVAL: [0/98] Elapsed 0m 0s (remain 0m 48s) Loss: 0.0108(0.0108) \n"
          ]
        },
        {
          "metadata": {
            "tags": null
          },
          "name": "stderr",
          "output_type": "stream",
          "text": [
            "Epoch 4 - avg_train_loss: 0.1584  avg_val_loss: 0.1601  time: 475s\n",
            "Epoch 4 - Score: 0.8612\n",
            "Epoch 4 - Save Best Score: 0.8612 Model\n"
          ]
        },
        {
          "metadata": {
            "tags": null
          },
          "name": "stdout",
          "output_type": "stream",
          "text": [
            "EVAL: [97/98] Elapsed 0m 39s (remain 0m 0s) Loss: 0.0054(0.1601) \n"
          ]
        },
        {
          "metadata": {
            "tags": null
          },
          "name": "stderr",
          "output_type": "stream",
          "text": [
            "/usr/local/lib/python3.7/dist-packages/torch/optim/lr_scheduler.py:249: UserWarning: To get the last learning rate computed by the scheduler, please use `get_last_lr()`.\n",
            "  warnings.warn(\"To get the last learning rate computed by the scheduler, \"\n"
          ]
        },
        {
          "output_type": "stream",
          "name": "stdout",
          "text": [
            "Epoch: [5][0/388] Elapsed 0m 0s (remain 6m 11s) Loss: 0.0399(0.0399) Grad: 5.3913  LR: 0.00001810  \n",
            "Epoch: [5][100/388] Elapsed 1m 53s (remain 5m 21s) Loss: 0.0284(0.1311) Grad: 0.7002  LR: 0.00001785  \n",
            "Epoch: [5][200/388] Elapsed 3m 45s (remain 3m 29s) Loss: 0.1997(0.1432) Grad: 7.2845  LR: 0.00001760  \n",
            "Epoch: [5][300/388] Elapsed 5m 37s (remain 1m 37s) Loss: 0.0173(0.1412) Grad: 0.9017  LR: 0.00001733  \n",
            "Epoch: [5][387/388] Elapsed 7m 14s (remain 0m 0s) Loss: 0.5483(0.1380) Grad: 24.0078  LR: 0.00001708  \n",
            "EVAL: [0/98] Elapsed 0m 0s (remain 0m 49s) Loss: 0.0088(0.0088) \n"
          ]
        },
        {
          "output_type": "stream",
          "name": "stderr",
          "text": [
            "Epoch 5 - avg_train_loss: 0.1380  avg_val_loss: 0.1599  time: 475s\n",
            "Epoch 5 - Score: 0.8663\n",
            "Epoch 5 - Save Best Score: 0.8663 Model\n"
          ]
        },
        {
          "output_type": "stream",
          "name": "stdout",
          "text": [
            "EVAL: [97/98] Elapsed 0m 39s (remain 0m 0s) Loss: 0.0031(0.1599) \n"
          ]
        },
        {
          "output_type": "stream",
          "name": "stderr",
          "text": [
            "/usr/local/lib/python3.7/dist-packages/torch/optim/lr_scheduler.py:249: UserWarning: To get the last learning rate computed by the scheduler, please use `get_last_lr()`.\n",
            "  warnings.warn(\"To get the last learning rate computed by the scheduler, \"\n"
          ]
        },
        {
          "output_type": "stream",
          "name": "stdout",
          "text": [
            "Epoch: [6][0/388] Elapsed 0m 1s (remain 6m 27s) Loss: 0.1995(0.1995) Grad: 6.5479  LR: 0.00001708  \n"
          ]
        }
      ],
      "source": [
        "from transformers import get_linear_schedule_with_warmup, get_cosine_schedule_with_warmup\n",
        "import time\n",
        "import math\n",
        "import gc\n",
        "import transformers\n",
        "transformers.logging.set_verbosity_error()\n",
        "if __name__ == '__main__':\n",
        "\n",
        "    device = torch.device('cuda' if torch.cuda.is_available() else 'cpu')\n",
        "    CFG.target = \"Gender_bin\"\n",
        "    CFG.max_len = 768\n",
        "    if CFG.train:\n",
        "        oof_df = pd.DataFrame()\n",
        "        for fold in range(0,CFG.n_fold):\n",
        "            if fold in CFG.trn_fold:\n",
        "                _oof_df = train_loop(train, fold)\n",
        "                oof_df = pd.concat([oof_df, _oof_df])\n",
        "                LOGGER.info(f\"========== fold: {fold} result ==========\")\n",
        "                #get_result(_oof_df)\n",
        "        oof_df = oof_df.reset_index(drop=True)\n",
        "        LOGGER.info(f\"========== CV ==========\")\n",
        "        #get_result(oof_df)\n",
        "        oof_df.to_pickle(OUTPUT_DIR+f'{CFG.model.replace(\"/\",\"_\")}_{CFG.target}_oof_df.pkl')\n",
        "\n",
        "    if CFG.wandb:\n",
        "        wandb.finish()"
      ],
      "id": "fe02fdce"
    },
    {
      "cell_type": "code",
      "source": [],
      "metadata": {
        "id": "Np6q_l6dAYb_"
      },
      "id": "Np6q_l6dAYb_",
      "execution_count": null,
      "outputs": []
    },
    {
      "cell_type": "code",
      "execution_count": null,
      "metadata": {
        "id": "c8cb5b74"
      },
      "outputs": [],
      "source": [
        "sum(oof_df[\"predictions\"]==oof_df[\"Gender_bin\"])/len(oof_df)"
      ],
      "id": "c8cb5b74"
    },
    {
      "cell_type": "code",
      "execution_count": null,
      "metadata": {
        "id": "81a68c83"
      },
      "outputs": [],
      "source": [],
      "id": "81a68c83"
    }
  ],
  "metadata": {
    "accelerator": "GPU",
    "colab": {
      "machine_shape": "hm",
      "provenance": [],
      "include_colab_link": true
    },
    "kernelspec": {
      "display_name": "Python 3 (ipykernel)",
      "language": "python",
      "name": "python3"
    },
    "language_info": {
      "codemirror_mode": {
        "name": "ipython",
        "version": 3
      },
      "file_extension": ".py",
      "mimetype": "text/x-python",
      "name": "python",
      "nbconvert_exporter": "python",
      "pygments_lexer": "ipython3",
      "version": "3.7.6"
    },
    "widgets": {
      "application/vnd.jupyter.widget-state+json": {
        "65345dc8413e428f9cdce77a712fdea4": {
          "model_module": "@jupyter-widgets/controls",
          "model_name": "HBoxModel",
          "model_module_version": "1.5.0",
          "state": {
            "_dom_classes": [],
            "_model_module": "@jupyter-widgets/controls",
            "_model_module_version": "1.5.0",
            "_model_name": "HBoxModel",
            "_view_count": null,
            "_view_module": "@jupyter-widgets/controls",
            "_view_module_version": "1.5.0",
            "_view_name": "HBoxView",
            "box_style": "",
            "children": [
              "IPY_MODEL_64ccf1cb970844158bc26cd796a0827a",
              "IPY_MODEL_36e9c6dce96b4779aa051a064b7e3d0b",
              "IPY_MODEL_9e33d097e585479c90f96efdd4539948"
            ],
            "layout": "IPY_MODEL_5117d46348b64294bd667708db863292"
          }
        },
        "64ccf1cb970844158bc26cd796a0827a": {
          "model_module": "@jupyter-widgets/controls",
          "model_name": "HTMLModel",
          "model_module_version": "1.5.0",
          "state": {
            "_dom_classes": [],
            "_model_module": "@jupyter-widgets/controls",
            "_model_module_version": "1.5.0",
            "_model_name": "HTMLModel",
            "_view_count": null,
            "_view_module": "@jupyter-widgets/controls",
            "_view_module_version": "1.5.0",
            "_view_name": "HTMLView",
            "description": "",
            "description_tooltip": null,
            "layout": "IPY_MODEL_4637910a86744166836733b1ff72c083",
            "placeholder": "​",
            "style": "IPY_MODEL_59ccc0c247f3420991057e12d7df962a",
            "value": "Downloading: 100%"
          }
        },
        "36e9c6dce96b4779aa051a064b7e3d0b": {
          "model_module": "@jupyter-widgets/controls",
          "model_name": "FloatProgressModel",
          "model_module_version": "1.5.0",
          "state": {
            "_dom_classes": [],
            "_model_module": "@jupyter-widgets/controls",
            "_model_module_version": "1.5.0",
            "_model_name": "FloatProgressModel",
            "_view_count": null,
            "_view_module": "@jupyter-widgets/controls",
            "_view_module_version": "1.5.0",
            "_view_name": "ProgressView",
            "bar_style": "success",
            "description": "",
            "description_tooltip": null,
            "layout": "IPY_MODEL_bdfd33ff3a6f487fad31cf9015201795",
            "max": 52,
            "min": 0,
            "orientation": "horizontal",
            "style": "IPY_MODEL_f16663095efe49aa8f92fdbb50cd2b0d",
            "value": 52
          }
        },
        "9e33d097e585479c90f96efdd4539948": {
          "model_module": "@jupyter-widgets/controls",
          "model_name": "HTMLModel",
          "model_module_version": "1.5.0",
          "state": {
            "_dom_classes": [],
            "_model_module": "@jupyter-widgets/controls",
            "_model_module_version": "1.5.0",
            "_model_name": "HTMLModel",
            "_view_count": null,
            "_view_module": "@jupyter-widgets/controls",
            "_view_module_version": "1.5.0",
            "_view_name": "HTMLView",
            "description": "",
            "description_tooltip": null,
            "layout": "IPY_MODEL_007f4386316543f7840d7cdd9fe91b33",
            "placeholder": "​",
            "style": "IPY_MODEL_e2f2bf214b2b4760b2f28f07761870b9",
            "value": " 52.0/52.0 [00:00&lt;00:00, 1.73kB/s]"
          }
        },
        "5117d46348b64294bd667708db863292": {
          "model_module": "@jupyter-widgets/base",
          "model_name": "LayoutModel",
          "model_module_version": "1.2.0",
          "state": {
            "_model_module": "@jupyter-widgets/base",
            "_model_module_version": "1.2.0",
            "_model_name": "LayoutModel",
            "_view_count": null,
            "_view_module": "@jupyter-widgets/base",
            "_view_module_version": "1.2.0",
            "_view_name": "LayoutView",
            "align_content": null,
            "align_items": null,
            "align_self": null,
            "border": null,
            "bottom": null,
            "display": null,
            "flex": null,
            "flex_flow": null,
            "grid_area": null,
            "grid_auto_columns": null,
            "grid_auto_flow": null,
            "grid_auto_rows": null,
            "grid_column": null,
            "grid_gap": null,
            "grid_row": null,
            "grid_template_areas": null,
            "grid_template_columns": null,
            "grid_template_rows": null,
            "height": null,
            "justify_content": null,
            "justify_items": null,
            "left": null,
            "margin": null,
            "max_height": null,
            "max_width": null,
            "min_height": null,
            "min_width": null,
            "object_fit": null,
            "object_position": null,
            "order": null,
            "overflow": null,
            "overflow_x": null,
            "overflow_y": null,
            "padding": null,
            "right": null,
            "top": null,
            "visibility": null,
            "width": null
          }
        },
        "4637910a86744166836733b1ff72c083": {
          "model_module": "@jupyter-widgets/base",
          "model_name": "LayoutModel",
          "model_module_version": "1.2.0",
          "state": {
            "_model_module": "@jupyter-widgets/base",
            "_model_module_version": "1.2.0",
            "_model_name": "LayoutModel",
            "_view_count": null,
            "_view_module": "@jupyter-widgets/base",
            "_view_module_version": "1.2.0",
            "_view_name": "LayoutView",
            "align_content": null,
            "align_items": null,
            "align_self": null,
            "border": null,
            "bottom": null,
            "display": null,
            "flex": null,
            "flex_flow": null,
            "grid_area": null,
            "grid_auto_columns": null,
            "grid_auto_flow": null,
            "grid_auto_rows": null,
            "grid_column": null,
            "grid_gap": null,
            "grid_row": null,
            "grid_template_areas": null,
            "grid_template_columns": null,
            "grid_template_rows": null,
            "height": null,
            "justify_content": null,
            "justify_items": null,
            "left": null,
            "margin": null,
            "max_height": null,
            "max_width": null,
            "min_height": null,
            "min_width": null,
            "object_fit": null,
            "object_position": null,
            "order": null,
            "overflow": null,
            "overflow_x": null,
            "overflow_y": null,
            "padding": null,
            "right": null,
            "top": null,
            "visibility": null,
            "width": null
          }
        },
        "59ccc0c247f3420991057e12d7df962a": {
          "model_module": "@jupyter-widgets/controls",
          "model_name": "DescriptionStyleModel",
          "model_module_version": "1.5.0",
          "state": {
            "_model_module": "@jupyter-widgets/controls",
            "_model_module_version": "1.5.0",
            "_model_name": "DescriptionStyleModel",
            "_view_count": null,
            "_view_module": "@jupyter-widgets/base",
            "_view_module_version": "1.2.0",
            "_view_name": "StyleView",
            "description_width": ""
          }
        },
        "bdfd33ff3a6f487fad31cf9015201795": {
          "model_module": "@jupyter-widgets/base",
          "model_name": "LayoutModel",
          "model_module_version": "1.2.0",
          "state": {
            "_model_module": "@jupyter-widgets/base",
            "_model_module_version": "1.2.0",
            "_model_name": "LayoutModel",
            "_view_count": null,
            "_view_module": "@jupyter-widgets/base",
            "_view_module_version": "1.2.0",
            "_view_name": "LayoutView",
            "align_content": null,
            "align_items": null,
            "align_self": null,
            "border": null,
            "bottom": null,
            "display": null,
            "flex": null,
            "flex_flow": null,
            "grid_area": null,
            "grid_auto_columns": null,
            "grid_auto_flow": null,
            "grid_auto_rows": null,
            "grid_column": null,
            "grid_gap": null,
            "grid_row": null,
            "grid_template_areas": null,
            "grid_template_columns": null,
            "grid_template_rows": null,
            "height": null,
            "justify_content": null,
            "justify_items": null,
            "left": null,
            "margin": null,
            "max_height": null,
            "max_width": null,
            "min_height": null,
            "min_width": null,
            "object_fit": null,
            "object_position": null,
            "order": null,
            "overflow": null,
            "overflow_x": null,
            "overflow_y": null,
            "padding": null,
            "right": null,
            "top": null,
            "visibility": null,
            "width": null
          }
        },
        "f16663095efe49aa8f92fdbb50cd2b0d": {
          "model_module": "@jupyter-widgets/controls",
          "model_name": "ProgressStyleModel",
          "model_module_version": "1.5.0",
          "state": {
            "_model_module": "@jupyter-widgets/controls",
            "_model_module_version": "1.5.0",
            "_model_name": "ProgressStyleModel",
            "_view_count": null,
            "_view_module": "@jupyter-widgets/base",
            "_view_module_version": "1.2.0",
            "_view_name": "StyleView",
            "bar_color": null,
            "description_width": ""
          }
        },
        "007f4386316543f7840d7cdd9fe91b33": {
          "model_module": "@jupyter-widgets/base",
          "model_name": "LayoutModel",
          "model_module_version": "1.2.0",
          "state": {
            "_model_module": "@jupyter-widgets/base",
            "_model_module_version": "1.2.0",
            "_model_name": "LayoutModel",
            "_view_count": null,
            "_view_module": "@jupyter-widgets/base",
            "_view_module_version": "1.2.0",
            "_view_name": "LayoutView",
            "align_content": null,
            "align_items": null,
            "align_self": null,
            "border": null,
            "bottom": null,
            "display": null,
            "flex": null,
            "flex_flow": null,
            "grid_area": null,
            "grid_auto_columns": null,
            "grid_auto_flow": null,
            "grid_auto_rows": null,
            "grid_column": null,
            "grid_gap": null,
            "grid_row": null,
            "grid_template_areas": null,
            "grid_template_columns": null,
            "grid_template_rows": null,
            "height": null,
            "justify_content": null,
            "justify_items": null,
            "left": null,
            "margin": null,
            "max_height": null,
            "max_width": null,
            "min_height": null,
            "min_width": null,
            "object_fit": null,
            "object_position": null,
            "order": null,
            "overflow": null,
            "overflow_x": null,
            "overflow_y": null,
            "padding": null,
            "right": null,
            "top": null,
            "visibility": null,
            "width": null
          }
        },
        "e2f2bf214b2b4760b2f28f07761870b9": {
          "model_module": "@jupyter-widgets/controls",
          "model_name": "DescriptionStyleModel",
          "model_module_version": "1.5.0",
          "state": {
            "_model_module": "@jupyter-widgets/controls",
            "_model_module_version": "1.5.0",
            "_model_name": "DescriptionStyleModel",
            "_view_count": null,
            "_view_module": "@jupyter-widgets/base",
            "_view_module_version": "1.2.0",
            "_view_name": "StyleView",
            "description_width": ""
          }
        },
        "8217f19cb77444fdbee6c00c1ad196b1": {
          "model_module": "@jupyter-widgets/controls",
          "model_name": "HBoxModel",
          "model_module_version": "1.5.0",
          "state": {
            "_dom_classes": [],
            "_model_module": "@jupyter-widgets/controls",
            "_model_module_version": "1.5.0",
            "_model_name": "HBoxModel",
            "_view_count": null,
            "_view_module": "@jupyter-widgets/controls",
            "_view_module_version": "1.5.0",
            "_view_name": "HBoxView",
            "box_style": "",
            "children": [
              "IPY_MODEL_127118e42af8469e9e90132be43b1bf3",
              "IPY_MODEL_2a018dc713e7497d833785453f17591f",
              "IPY_MODEL_88d27a9216c54ce3829f102c24b73489"
            ],
            "layout": "IPY_MODEL_7da9f1c5cb4f4bcf93f16b012643dd33"
          }
        },
        "127118e42af8469e9e90132be43b1bf3": {
          "model_module": "@jupyter-widgets/controls",
          "model_name": "HTMLModel",
          "model_module_version": "1.5.0",
          "state": {
            "_dom_classes": [],
            "_model_module": "@jupyter-widgets/controls",
            "_model_module_version": "1.5.0",
            "_model_name": "HTMLModel",
            "_view_count": null,
            "_view_module": "@jupyter-widgets/controls",
            "_view_module_version": "1.5.0",
            "_view_name": "HTMLView",
            "description": "",
            "description_tooltip": null,
            "layout": "IPY_MODEL_20021569a0df483d9d8ba11a893a0a00",
            "placeholder": "​",
            "style": "IPY_MODEL_c94b3acc64e94cfdb8ecfd71e65b0a66",
            "value": "Downloading: 100%"
          }
        },
        "2a018dc713e7497d833785453f17591f": {
          "model_module": "@jupyter-widgets/controls",
          "model_name": "FloatProgressModel",
          "model_module_version": "1.5.0",
          "state": {
            "_dom_classes": [],
            "_model_module": "@jupyter-widgets/controls",
            "_model_module_version": "1.5.0",
            "_model_name": "FloatProgressModel",
            "_view_count": null,
            "_view_module": "@jupyter-widgets/controls",
            "_view_module_version": "1.5.0",
            "_view_name": "ProgressView",
            "bar_style": "success",
            "description": "",
            "description_tooltip": null,
            "layout": "IPY_MODEL_e4470e9062e14ba78857cb44e0b1e8d0",
            "max": 4305025,
            "min": 0,
            "orientation": "horizontal",
            "style": "IPY_MODEL_1b736d2b73a14739895b2ec0b5cc3af5",
            "value": 4305025
          }
        },
        "88d27a9216c54ce3829f102c24b73489": {
          "model_module": "@jupyter-widgets/controls",
          "model_name": "HTMLModel",
          "model_module_version": "1.5.0",
          "state": {
            "_dom_classes": [],
            "_model_module": "@jupyter-widgets/controls",
            "_model_module_version": "1.5.0",
            "_model_name": "HTMLModel",
            "_view_count": null,
            "_view_module": "@jupyter-widgets/controls",
            "_view_module_version": "1.5.0",
            "_view_name": "HTMLView",
            "description": "",
            "description_tooltip": null,
            "layout": "IPY_MODEL_fda1dc86ba1b4d9eae3d595fd0a67ef4",
            "placeholder": "​",
            "style": "IPY_MODEL_1cfb3098bb764826bc96ed3543a1b0ef",
            "value": " 4.11M/4.11M [00:00&lt;00:00, 44.9MB/s]"
          }
        },
        "7da9f1c5cb4f4bcf93f16b012643dd33": {
          "model_module": "@jupyter-widgets/base",
          "model_name": "LayoutModel",
          "model_module_version": "1.2.0",
          "state": {
            "_model_module": "@jupyter-widgets/base",
            "_model_module_version": "1.2.0",
            "_model_name": "LayoutModel",
            "_view_count": null,
            "_view_module": "@jupyter-widgets/base",
            "_view_module_version": "1.2.0",
            "_view_name": "LayoutView",
            "align_content": null,
            "align_items": null,
            "align_self": null,
            "border": null,
            "bottom": null,
            "display": null,
            "flex": null,
            "flex_flow": null,
            "grid_area": null,
            "grid_auto_columns": null,
            "grid_auto_flow": null,
            "grid_auto_rows": null,
            "grid_column": null,
            "grid_gap": null,
            "grid_row": null,
            "grid_template_areas": null,
            "grid_template_columns": null,
            "grid_template_rows": null,
            "height": null,
            "justify_content": null,
            "justify_items": null,
            "left": null,
            "margin": null,
            "max_height": null,
            "max_width": null,
            "min_height": null,
            "min_width": null,
            "object_fit": null,
            "object_position": null,
            "order": null,
            "overflow": null,
            "overflow_x": null,
            "overflow_y": null,
            "padding": null,
            "right": null,
            "top": null,
            "visibility": null,
            "width": null
          }
        },
        "20021569a0df483d9d8ba11a893a0a00": {
          "model_module": "@jupyter-widgets/base",
          "model_name": "LayoutModel",
          "model_module_version": "1.2.0",
          "state": {
            "_model_module": "@jupyter-widgets/base",
            "_model_module_version": "1.2.0",
            "_model_name": "LayoutModel",
            "_view_count": null,
            "_view_module": "@jupyter-widgets/base",
            "_view_module_version": "1.2.0",
            "_view_name": "LayoutView",
            "align_content": null,
            "align_items": null,
            "align_self": null,
            "border": null,
            "bottom": null,
            "display": null,
            "flex": null,
            "flex_flow": null,
            "grid_area": null,
            "grid_auto_columns": null,
            "grid_auto_flow": null,
            "grid_auto_rows": null,
            "grid_column": null,
            "grid_gap": null,
            "grid_row": null,
            "grid_template_areas": null,
            "grid_template_columns": null,
            "grid_template_rows": null,
            "height": null,
            "justify_content": null,
            "justify_items": null,
            "left": null,
            "margin": null,
            "max_height": null,
            "max_width": null,
            "min_height": null,
            "min_width": null,
            "object_fit": null,
            "object_position": null,
            "order": null,
            "overflow": null,
            "overflow_x": null,
            "overflow_y": null,
            "padding": null,
            "right": null,
            "top": null,
            "visibility": null,
            "width": null
          }
        },
        "c94b3acc64e94cfdb8ecfd71e65b0a66": {
          "model_module": "@jupyter-widgets/controls",
          "model_name": "DescriptionStyleModel",
          "model_module_version": "1.5.0",
          "state": {
            "_model_module": "@jupyter-widgets/controls",
            "_model_module_version": "1.5.0",
            "_model_name": "DescriptionStyleModel",
            "_view_count": null,
            "_view_module": "@jupyter-widgets/base",
            "_view_module_version": "1.2.0",
            "_view_name": "StyleView",
            "description_width": ""
          }
        },
        "e4470e9062e14ba78857cb44e0b1e8d0": {
          "model_module": "@jupyter-widgets/base",
          "model_name": "LayoutModel",
          "model_module_version": "1.2.0",
          "state": {
            "_model_module": "@jupyter-widgets/base",
            "_model_module_version": "1.2.0",
            "_model_name": "LayoutModel",
            "_view_count": null,
            "_view_module": "@jupyter-widgets/base",
            "_view_module_version": "1.2.0",
            "_view_name": "LayoutView",
            "align_content": null,
            "align_items": null,
            "align_self": null,
            "border": null,
            "bottom": null,
            "display": null,
            "flex": null,
            "flex_flow": null,
            "grid_area": null,
            "grid_auto_columns": null,
            "grid_auto_flow": null,
            "grid_auto_rows": null,
            "grid_column": null,
            "grid_gap": null,
            "grid_row": null,
            "grid_template_areas": null,
            "grid_template_columns": null,
            "grid_template_rows": null,
            "height": null,
            "justify_content": null,
            "justify_items": null,
            "left": null,
            "margin": null,
            "max_height": null,
            "max_width": null,
            "min_height": null,
            "min_width": null,
            "object_fit": null,
            "object_position": null,
            "order": null,
            "overflow": null,
            "overflow_x": null,
            "overflow_y": null,
            "padding": null,
            "right": null,
            "top": null,
            "visibility": null,
            "width": null
          }
        },
        "1b736d2b73a14739895b2ec0b5cc3af5": {
          "model_module": "@jupyter-widgets/controls",
          "model_name": "ProgressStyleModel",
          "model_module_version": "1.5.0",
          "state": {
            "_model_module": "@jupyter-widgets/controls",
            "_model_module_version": "1.5.0",
            "_model_name": "ProgressStyleModel",
            "_view_count": null,
            "_view_module": "@jupyter-widgets/base",
            "_view_module_version": "1.2.0",
            "_view_name": "StyleView",
            "bar_color": null,
            "description_width": ""
          }
        },
        "fda1dc86ba1b4d9eae3d595fd0a67ef4": {
          "model_module": "@jupyter-widgets/base",
          "model_name": "LayoutModel",
          "model_module_version": "1.2.0",
          "state": {
            "_model_module": "@jupyter-widgets/base",
            "_model_module_version": "1.2.0",
            "_model_name": "LayoutModel",
            "_view_count": null,
            "_view_module": "@jupyter-widgets/base",
            "_view_module_version": "1.2.0",
            "_view_name": "LayoutView",
            "align_content": null,
            "align_items": null,
            "align_self": null,
            "border": null,
            "bottom": null,
            "display": null,
            "flex": null,
            "flex_flow": null,
            "grid_area": null,
            "grid_auto_columns": null,
            "grid_auto_flow": null,
            "grid_auto_rows": null,
            "grid_column": null,
            "grid_gap": null,
            "grid_row": null,
            "grid_template_areas": null,
            "grid_template_columns": null,
            "grid_template_rows": null,
            "height": null,
            "justify_content": null,
            "justify_items": null,
            "left": null,
            "margin": null,
            "max_height": null,
            "max_width": null,
            "min_height": null,
            "min_width": null,
            "object_fit": null,
            "object_position": null,
            "order": null,
            "overflow": null,
            "overflow_x": null,
            "overflow_y": null,
            "padding": null,
            "right": null,
            "top": null,
            "visibility": null,
            "width": null
          }
        },
        "1cfb3098bb764826bc96ed3543a1b0ef": {
          "model_module": "@jupyter-widgets/controls",
          "model_name": "DescriptionStyleModel",
          "model_module_version": "1.5.0",
          "state": {
            "_model_module": "@jupyter-widgets/controls",
            "_model_module_version": "1.5.0",
            "_model_name": "DescriptionStyleModel",
            "_view_count": null,
            "_view_module": "@jupyter-widgets/base",
            "_view_module_version": "1.2.0",
            "_view_name": "StyleView",
            "description_width": ""
          }
        },
        "3b560f2ca33440e081a63cb59cadf123": {
          "model_module": "@jupyter-widgets/controls",
          "model_name": "HBoxModel",
          "model_module_version": "1.5.0",
          "state": {
            "_dom_classes": [],
            "_model_module": "@jupyter-widgets/controls",
            "_model_module_version": "1.5.0",
            "_model_name": "HBoxModel",
            "_view_count": null,
            "_view_module": "@jupyter-widgets/controls",
            "_view_module_version": "1.5.0",
            "_view_name": "HBoxView",
            "box_style": "",
            "children": [
              "IPY_MODEL_cc92564378204d3d80e743f363ebdd12",
              "IPY_MODEL_eaf9c16244cf43908ad3df20ec090820",
              "IPY_MODEL_d8ea1dd7b77d45e882d2a4c067b2a8cc"
            ],
            "layout": "IPY_MODEL_f984a0f45ce748fe9d99870f63eefac0"
          }
        },
        "cc92564378204d3d80e743f363ebdd12": {
          "model_module": "@jupyter-widgets/controls",
          "model_name": "HTMLModel",
          "model_module_version": "1.5.0",
          "state": {
            "_dom_classes": [],
            "_model_module": "@jupyter-widgets/controls",
            "_model_module_version": "1.5.0",
            "_model_name": "HTMLModel",
            "_view_count": null,
            "_view_module": "@jupyter-widgets/controls",
            "_view_module_version": "1.5.0",
            "_view_name": "HTMLView",
            "description": "",
            "description_tooltip": null,
            "layout": "IPY_MODEL_d245f68a08114f8bb2e10c33a4d80562",
            "placeholder": "​",
            "style": "IPY_MODEL_98b7858ddafb4bf8abfa1a0868187a32",
            "value": "Downloading: 100%"
          }
        },
        "eaf9c16244cf43908ad3df20ec090820": {
          "model_module": "@jupyter-widgets/controls",
          "model_name": "FloatProgressModel",
          "model_module_version": "1.5.0",
          "state": {
            "_dom_classes": [],
            "_model_module": "@jupyter-widgets/controls",
            "_model_module_version": "1.5.0",
            "_model_name": "FloatProgressModel",
            "_view_count": null,
            "_view_module": "@jupyter-widgets/controls",
            "_view_module_version": "1.5.0",
            "_view_name": "ProgressView",
            "bar_style": "success",
            "description": "",
            "description_tooltip": null,
            "layout": "IPY_MODEL_a533d6254bbc4c3b8352329d1ca4e594",
            "max": 579,
            "min": 0,
            "orientation": "horizontal",
            "style": "IPY_MODEL_17865b8700784bde99a68450e767b5d8",
            "value": 579
          }
        },
        "d8ea1dd7b77d45e882d2a4c067b2a8cc": {
          "model_module": "@jupyter-widgets/controls",
          "model_name": "HTMLModel",
          "model_module_version": "1.5.0",
          "state": {
            "_dom_classes": [],
            "_model_module": "@jupyter-widgets/controls",
            "_model_module_version": "1.5.0",
            "_model_name": "HTMLModel",
            "_view_count": null,
            "_view_module": "@jupyter-widgets/controls",
            "_view_module_version": "1.5.0",
            "_view_name": "HTMLView",
            "description": "",
            "description_tooltip": null,
            "layout": "IPY_MODEL_fc14702dffb04c2f8c861b334a878e8c",
            "placeholder": "​",
            "style": "IPY_MODEL_dd3c35a0b7ec4b3e98a98724034a25a8",
            "value": " 579/579 [00:00&lt;00:00, 19.2kB/s]"
          }
        },
        "f984a0f45ce748fe9d99870f63eefac0": {
          "model_module": "@jupyter-widgets/base",
          "model_name": "LayoutModel",
          "model_module_version": "1.2.0",
          "state": {
            "_model_module": "@jupyter-widgets/base",
            "_model_module_version": "1.2.0",
            "_model_name": "LayoutModel",
            "_view_count": null,
            "_view_module": "@jupyter-widgets/base",
            "_view_module_version": "1.2.0",
            "_view_name": "LayoutView",
            "align_content": null,
            "align_items": null,
            "align_self": null,
            "border": null,
            "bottom": null,
            "display": null,
            "flex": null,
            "flex_flow": null,
            "grid_area": null,
            "grid_auto_columns": null,
            "grid_auto_flow": null,
            "grid_auto_rows": null,
            "grid_column": null,
            "grid_gap": null,
            "grid_row": null,
            "grid_template_areas": null,
            "grid_template_columns": null,
            "grid_template_rows": null,
            "height": null,
            "justify_content": null,
            "justify_items": null,
            "left": null,
            "margin": null,
            "max_height": null,
            "max_width": null,
            "min_height": null,
            "min_width": null,
            "object_fit": null,
            "object_position": null,
            "order": null,
            "overflow": null,
            "overflow_x": null,
            "overflow_y": null,
            "padding": null,
            "right": null,
            "top": null,
            "visibility": null,
            "width": null
          }
        },
        "d245f68a08114f8bb2e10c33a4d80562": {
          "model_module": "@jupyter-widgets/base",
          "model_name": "LayoutModel",
          "model_module_version": "1.2.0",
          "state": {
            "_model_module": "@jupyter-widgets/base",
            "_model_module_version": "1.2.0",
            "_model_name": "LayoutModel",
            "_view_count": null,
            "_view_module": "@jupyter-widgets/base",
            "_view_module_version": "1.2.0",
            "_view_name": "LayoutView",
            "align_content": null,
            "align_items": null,
            "align_self": null,
            "border": null,
            "bottom": null,
            "display": null,
            "flex": null,
            "flex_flow": null,
            "grid_area": null,
            "grid_auto_columns": null,
            "grid_auto_flow": null,
            "grid_auto_rows": null,
            "grid_column": null,
            "grid_gap": null,
            "grid_row": null,
            "grid_template_areas": null,
            "grid_template_columns": null,
            "grid_template_rows": null,
            "height": null,
            "justify_content": null,
            "justify_items": null,
            "left": null,
            "margin": null,
            "max_height": null,
            "max_width": null,
            "min_height": null,
            "min_width": null,
            "object_fit": null,
            "object_position": null,
            "order": null,
            "overflow": null,
            "overflow_x": null,
            "overflow_y": null,
            "padding": null,
            "right": null,
            "top": null,
            "visibility": null,
            "width": null
          }
        },
        "98b7858ddafb4bf8abfa1a0868187a32": {
          "model_module": "@jupyter-widgets/controls",
          "model_name": "DescriptionStyleModel",
          "model_module_version": "1.5.0",
          "state": {
            "_model_module": "@jupyter-widgets/controls",
            "_model_module_version": "1.5.0",
            "_model_name": "DescriptionStyleModel",
            "_view_count": null,
            "_view_module": "@jupyter-widgets/base",
            "_view_module_version": "1.2.0",
            "_view_name": "StyleView",
            "description_width": ""
          }
        },
        "a533d6254bbc4c3b8352329d1ca4e594": {
          "model_module": "@jupyter-widgets/base",
          "model_name": "LayoutModel",
          "model_module_version": "1.2.0",
          "state": {
            "_model_module": "@jupyter-widgets/base",
            "_model_module_version": "1.2.0",
            "_model_name": "LayoutModel",
            "_view_count": null,
            "_view_module": "@jupyter-widgets/base",
            "_view_module_version": "1.2.0",
            "_view_name": "LayoutView",
            "align_content": null,
            "align_items": null,
            "align_self": null,
            "border": null,
            "bottom": null,
            "display": null,
            "flex": null,
            "flex_flow": null,
            "grid_area": null,
            "grid_auto_columns": null,
            "grid_auto_flow": null,
            "grid_auto_rows": null,
            "grid_column": null,
            "grid_gap": null,
            "grid_row": null,
            "grid_template_areas": null,
            "grid_template_columns": null,
            "grid_template_rows": null,
            "height": null,
            "justify_content": null,
            "justify_items": null,
            "left": null,
            "margin": null,
            "max_height": null,
            "max_width": null,
            "min_height": null,
            "min_width": null,
            "object_fit": null,
            "object_position": null,
            "order": null,
            "overflow": null,
            "overflow_x": null,
            "overflow_y": null,
            "padding": null,
            "right": null,
            "top": null,
            "visibility": null,
            "width": null
          }
        },
        "17865b8700784bde99a68450e767b5d8": {
          "model_module": "@jupyter-widgets/controls",
          "model_name": "ProgressStyleModel",
          "model_module_version": "1.5.0",
          "state": {
            "_model_module": "@jupyter-widgets/controls",
            "_model_module_version": "1.5.0",
            "_model_name": "ProgressStyleModel",
            "_view_count": null,
            "_view_module": "@jupyter-widgets/base",
            "_view_module_version": "1.2.0",
            "_view_name": "StyleView",
            "bar_color": null,
            "description_width": ""
          }
        },
        "fc14702dffb04c2f8c861b334a878e8c": {
          "model_module": "@jupyter-widgets/base",
          "model_name": "LayoutModel",
          "model_module_version": "1.2.0",
          "state": {
            "_model_module": "@jupyter-widgets/base",
            "_model_module_version": "1.2.0",
            "_model_name": "LayoutModel",
            "_view_count": null,
            "_view_module": "@jupyter-widgets/base",
            "_view_module_version": "1.2.0",
            "_view_name": "LayoutView",
            "align_content": null,
            "align_items": null,
            "align_self": null,
            "border": null,
            "bottom": null,
            "display": null,
            "flex": null,
            "flex_flow": null,
            "grid_area": null,
            "grid_auto_columns": null,
            "grid_auto_flow": null,
            "grid_auto_rows": null,
            "grid_column": null,
            "grid_gap": null,
            "grid_row": null,
            "grid_template_areas": null,
            "grid_template_columns": null,
            "grid_template_rows": null,
            "height": null,
            "justify_content": null,
            "justify_items": null,
            "left": null,
            "margin": null,
            "max_height": null,
            "max_width": null,
            "min_height": null,
            "min_width": null,
            "object_fit": null,
            "object_position": null,
            "order": null,
            "overflow": null,
            "overflow_x": null,
            "overflow_y": null,
            "padding": null,
            "right": null,
            "top": null,
            "visibility": null,
            "width": null
          }
        },
        "dd3c35a0b7ec4b3e98a98724034a25a8": {
          "model_module": "@jupyter-widgets/controls",
          "model_name": "DescriptionStyleModel",
          "model_module_version": "1.5.0",
          "state": {
            "_model_module": "@jupyter-widgets/controls",
            "_model_module_version": "1.5.0",
            "_model_name": "DescriptionStyleModel",
            "_view_count": null,
            "_view_module": "@jupyter-widgets/base",
            "_view_module_version": "1.2.0",
            "_view_name": "StyleView",
            "description_width": ""
          }
        },
        "72678c9ef38a4b5e86732510b5eecb1b": {
          "model_module": "@jupyter-widgets/controls",
          "model_name": "HBoxModel",
          "model_module_version": "1.5.0",
          "state": {
            "_dom_classes": [],
            "_model_module": "@jupyter-widgets/controls",
            "_model_module_version": "1.5.0",
            "_model_name": "HBoxModel",
            "_view_count": null,
            "_view_module": "@jupyter-widgets/controls",
            "_view_module_version": "1.5.0",
            "_view_name": "HBoxView",
            "box_style": "",
            "children": [
              "IPY_MODEL_afb7293295874831be0bcfec46422a0a",
              "IPY_MODEL_b0e56aa8721e4b1bbf701879cc29b8f2",
              "IPY_MODEL_2237e460a34340c2821b176333c3d770"
            ],
            "layout": "IPY_MODEL_9aa0490642e64abf87b1dff20dfb359f"
          }
        },
        "afb7293295874831be0bcfec46422a0a": {
          "model_module": "@jupyter-widgets/controls",
          "model_name": "HTMLModel",
          "model_module_version": "1.5.0",
          "state": {
            "_dom_classes": [],
            "_model_module": "@jupyter-widgets/controls",
            "_model_module_version": "1.5.0",
            "_model_name": "HTMLModel",
            "_view_count": null,
            "_view_module": "@jupyter-widgets/controls",
            "_view_module_version": "1.5.0",
            "_view_name": "HTMLView",
            "description": "",
            "description_tooltip": null,
            "layout": "IPY_MODEL_7b00373fbbf04a2ca6e236c03f6f7d05",
            "placeholder": "​",
            "style": "IPY_MODEL_a215b935f79e46b7a7bbe2428246d690",
            "value": "Downloading: 100%"
          }
        },
        "b0e56aa8721e4b1bbf701879cc29b8f2": {
          "model_module": "@jupyter-widgets/controls",
          "model_name": "FloatProgressModel",
          "model_module_version": "1.5.0",
          "state": {
            "_dom_classes": [],
            "_model_module": "@jupyter-widgets/controls",
            "_model_module_version": "1.5.0",
            "_model_name": "FloatProgressModel",
            "_view_count": null,
            "_view_module": "@jupyter-widgets/controls",
            "_view_module_version": "1.5.0",
            "_view_name": "ProgressView",
            "bar_style": "success",
            "description": "",
            "description_tooltip": null,
            "layout": "IPY_MODEL_e10196ff679143daa5eff16dccfdc2fc",
            "max": 560166373,
            "min": 0,
            "orientation": "horizontal",
            "style": "IPY_MODEL_eebc880e8ca8426f85cc83287c45481a",
            "value": 560166373
          }
        },
        "2237e460a34340c2821b176333c3d770": {
          "model_module": "@jupyter-widgets/controls",
          "model_name": "HTMLModel",
          "model_module_version": "1.5.0",
          "state": {
            "_dom_classes": [],
            "_model_module": "@jupyter-widgets/controls",
            "_model_module_version": "1.5.0",
            "_model_name": "HTMLModel",
            "_view_count": null,
            "_view_module": "@jupyter-widgets/controls",
            "_view_module_version": "1.5.0",
            "_view_name": "HTMLView",
            "description": "",
            "description_tooltip": null,
            "layout": "IPY_MODEL_afb1708b7dcf4b67b62f805b5a4435b9",
            "placeholder": "​",
            "style": "IPY_MODEL_e63918cdcf214ea0a6e27dfea2d36a81",
            "value": " 534M/534M [00:08&lt;00:00, 69.8MB/s]"
          }
        },
        "9aa0490642e64abf87b1dff20dfb359f": {
          "model_module": "@jupyter-widgets/base",
          "model_name": "LayoutModel",
          "model_module_version": "1.2.0",
          "state": {
            "_model_module": "@jupyter-widgets/base",
            "_model_module_version": "1.2.0",
            "_model_name": "LayoutModel",
            "_view_count": null,
            "_view_module": "@jupyter-widgets/base",
            "_view_module_version": "1.2.0",
            "_view_name": "LayoutView",
            "align_content": null,
            "align_items": null,
            "align_self": null,
            "border": null,
            "bottom": null,
            "display": null,
            "flex": null,
            "flex_flow": null,
            "grid_area": null,
            "grid_auto_columns": null,
            "grid_auto_flow": null,
            "grid_auto_rows": null,
            "grid_column": null,
            "grid_gap": null,
            "grid_row": null,
            "grid_template_areas": null,
            "grid_template_columns": null,
            "grid_template_rows": null,
            "height": null,
            "justify_content": null,
            "justify_items": null,
            "left": null,
            "margin": null,
            "max_height": null,
            "max_width": null,
            "min_height": null,
            "min_width": null,
            "object_fit": null,
            "object_position": null,
            "order": null,
            "overflow": null,
            "overflow_x": null,
            "overflow_y": null,
            "padding": null,
            "right": null,
            "top": null,
            "visibility": null,
            "width": null
          }
        },
        "7b00373fbbf04a2ca6e236c03f6f7d05": {
          "model_module": "@jupyter-widgets/base",
          "model_name": "LayoutModel",
          "model_module_version": "1.2.0",
          "state": {
            "_model_module": "@jupyter-widgets/base",
            "_model_module_version": "1.2.0",
            "_model_name": "LayoutModel",
            "_view_count": null,
            "_view_module": "@jupyter-widgets/base",
            "_view_module_version": "1.2.0",
            "_view_name": "LayoutView",
            "align_content": null,
            "align_items": null,
            "align_self": null,
            "border": null,
            "bottom": null,
            "display": null,
            "flex": null,
            "flex_flow": null,
            "grid_area": null,
            "grid_auto_columns": null,
            "grid_auto_flow": null,
            "grid_auto_rows": null,
            "grid_column": null,
            "grid_gap": null,
            "grid_row": null,
            "grid_template_areas": null,
            "grid_template_columns": null,
            "grid_template_rows": null,
            "height": null,
            "justify_content": null,
            "justify_items": null,
            "left": null,
            "margin": null,
            "max_height": null,
            "max_width": null,
            "min_height": null,
            "min_width": null,
            "object_fit": null,
            "object_position": null,
            "order": null,
            "overflow": null,
            "overflow_x": null,
            "overflow_y": null,
            "padding": null,
            "right": null,
            "top": null,
            "visibility": null,
            "width": null
          }
        },
        "a215b935f79e46b7a7bbe2428246d690": {
          "model_module": "@jupyter-widgets/controls",
          "model_name": "DescriptionStyleModel",
          "model_module_version": "1.5.0",
          "state": {
            "_model_module": "@jupyter-widgets/controls",
            "_model_module_version": "1.5.0",
            "_model_name": "DescriptionStyleModel",
            "_view_count": null,
            "_view_module": "@jupyter-widgets/base",
            "_view_module_version": "1.2.0",
            "_view_name": "StyleView",
            "description_width": ""
          }
        },
        "e10196ff679143daa5eff16dccfdc2fc": {
          "model_module": "@jupyter-widgets/base",
          "model_name": "LayoutModel",
          "model_module_version": "1.2.0",
          "state": {
            "_model_module": "@jupyter-widgets/base",
            "_model_module_version": "1.2.0",
            "_model_name": "LayoutModel",
            "_view_count": null,
            "_view_module": "@jupyter-widgets/base",
            "_view_module_version": "1.2.0",
            "_view_name": "LayoutView",
            "align_content": null,
            "align_items": null,
            "align_self": null,
            "border": null,
            "bottom": null,
            "display": null,
            "flex": null,
            "flex_flow": null,
            "grid_area": null,
            "grid_auto_columns": null,
            "grid_auto_flow": null,
            "grid_auto_rows": null,
            "grid_column": null,
            "grid_gap": null,
            "grid_row": null,
            "grid_template_areas": null,
            "grid_template_columns": null,
            "grid_template_rows": null,
            "height": null,
            "justify_content": null,
            "justify_items": null,
            "left": null,
            "margin": null,
            "max_height": null,
            "max_width": null,
            "min_height": null,
            "min_width": null,
            "object_fit": null,
            "object_position": null,
            "order": null,
            "overflow": null,
            "overflow_x": null,
            "overflow_y": null,
            "padding": null,
            "right": null,
            "top": null,
            "visibility": null,
            "width": null
          }
        },
        "eebc880e8ca8426f85cc83287c45481a": {
          "model_module": "@jupyter-widgets/controls",
          "model_name": "ProgressStyleModel",
          "model_module_version": "1.5.0",
          "state": {
            "_model_module": "@jupyter-widgets/controls",
            "_model_module_version": "1.5.0",
            "_model_name": "ProgressStyleModel",
            "_view_count": null,
            "_view_module": "@jupyter-widgets/base",
            "_view_module_version": "1.2.0",
            "_view_name": "StyleView",
            "bar_color": null,
            "description_width": ""
          }
        },
        "afb1708b7dcf4b67b62f805b5a4435b9": {
          "model_module": "@jupyter-widgets/base",
          "model_name": "LayoutModel",
          "model_module_version": "1.2.0",
          "state": {
            "_model_module": "@jupyter-widgets/base",
            "_model_module_version": "1.2.0",
            "_model_name": "LayoutModel",
            "_view_count": null,
            "_view_module": "@jupyter-widgets/base",
            "_view_module_version": "1.2.0",
            "_view_name": "LayoutView",
            "align_content": null,
            "align_items": null,
            "align_self": null,
            "border": null,
            "bottom": null,
            "display": null,
            "flex": null,
            "flex_flow": null,
            "grid_area": null,
            "grid_auto_columns": null,
            "grid_auto_flow": null,
            "grid_auto_rows": null,
            "grid_column": null,
            "grid_gap": null,
            "grid_row": null,
            "grid_template_areas": null,
            "grid_template_columns": null,
            "grid_template_rows": null,
            "height": null,
            "justify_content": null,
            "justify_items": null,
            "left": null,
            "margin": null,
            "max_height": null,
            "max_width": null,
            "min_height": null,
            "min_width": null,
            "object_fit": null,
            "object_position": null,
            "order": null,
            "overflow": null,
            "overflow_x": null,
            "overflow_y": null,
            "padding": null,
            "right": null,
            "top": null,
            "visibility": null,
            "width": null
          }
        },
        "e63918cdcf214ea0a6e27dfea2d36a81": {
          "model_module": "@jupyter-widgets/controls",
          "model_name": "DescriptionStyleModel",
          "model_module_version": "1.5.0",
          "state": {
            "_model_module": "@jupyter-widgets/controls",
            "_model_module_version": "1.5.0",
            "_model_name": "DescriptionStyleModel",
            "_view_count": null,
            "_view_module": "@jupyter-widgets/base",
            "_view_module_version": "1.2.0",
            "_view_name": "StyleView",
            "description_width": ""
          }
        }
      }
    }
  },
  "nbformat": 4,
  "nbformat_minor": 5
}